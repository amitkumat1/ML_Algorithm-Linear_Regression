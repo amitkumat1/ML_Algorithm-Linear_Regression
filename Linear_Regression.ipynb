{
  "cells": [
    {
      "cell_type": "markdown",
      "source": [
        "## Importing Library"
      ],
      "metadata": {
        "id": "vJvTXOlGlH3W"
      },
      "id": "vJvTXOlGlH3W"
    },
    {
      "cell_type": "code",
      "execution_count": 1,
      "id": "538c5c40",
      "metadata": {
        "id": "538c5c40"
      },
      "outputs": [],
      "source": [
        "import pandas as pd\n",
        "import numpy as np\n",
        "import matplotlib.pyplot as plt\n"
      ]
    },
    {
      "cell_type": "markdown",
      "source": [
        "##Importing Datasets"
      ],
      "metadata": {
        "id": "Twa5U8adlPHo"
      },
      "id": "Twa5U8adlPHo"
    },
    {
      "cell_type": "code",
      "execution_count": null,
      "id": "c901842e",
      "metadata": {
        "id": "c901842e"
      },
      "outputs": [],
      "source": [
        "insurance=pd.read_csv('new_insurance_data.csv')"
      ]
    },
    {
      "cell_type": "code",
      "execution_count": null,
      "id": "db7cd5cf",
      "metadata": {
        "id": "db7cd5cf",
        "scrolled": true,
        "outputId": "0aaa1a26-ecba-4c42-941d-8a24df8f0bc1"
      },
      "outputs": [
        {
          "data": {
            "text/html": [
              "<div>\n",
              "<style scoped>\n",
              "    .dataframe tbody tr th:only-of-type {\n",
              "        vertical-align: middle;\n",
              "    }\n",
              "\n",
              "    .dataframe tbody tr th {\n",
              "        vertical-align: top;\n",
              "    }\n",
              "\n",
              "    .dataframe thead th {\n",
              "        text-align: right;\n",
              "    }\n",
              "</style>\n",
              "<table border=\"1\" class=\"dataframe\">\n",
              "  <thead>\n",
              "    <tr style=\"text-align: right;\">\n",
              "      <th></th>\n",
              "      <th>age</th>\n",
              "      <th>sex</th>\n",
              "      <th>bmi</th>\n",
              "      <th>children</th>\n",
              "      <th>smoker</th>\n",
              "      <th>Claim_Amount</th>\n",
              "      <th>past_consultations</th>\n",
              "      <th>num_of_steps</th>\n",
              "      <th>Hospital_expenditure</th>\n",
              "      <th>NUmber_of_past_hospitalizations</th>\n",
              "      <th>Anual_Salary</th>\n",
              "      <th>region</th>\n",
              "      <th>charges</th>\n",
              "    </tr>\n",
              "  </thead>\n",
              "  <tbody>\n",
              "    <tr>\n",
              "      <th>0</th>\n",
              "      <td>18.0</td>\n",
              "      <td>male</td>\n",
              "      <td>23.21</td>\n",
              "      <td>0.0</td>\n",
              "      <td>no</td>\n",
              "      <td>29087.54313</td>\n",
              "      <td>17.0</td>\n",
              "      <td>715428.0</td>\n",
              "      <td>4720920.992</td>\n",
              "      <td>0.0</td>\n",
              "      <td>55784970.05</td>\n",
              "      <td>southeast</td>\n",
              "      <td>1121.8739</td>\n",
              "    </tr>\n",
              "    <tr>\n",
              "      <th>1</th>\n",
              "      <td>18.0</td>\n",
              "      <td>male</td>\n",
              "      <td>30.14</td>\n",
              "      <td>0.0</td>\n",
              "      <td>no</td>\n",
              "      <td>39053.67437</td>\n",
              "      <td>7.0</td>\n",
              "      <td>699157.0</td>\n",
              "      <td>4329831.676</td>\n",
              "      <td>0.0</td>\n",
              "      <td>13700885.19</td>\n",
              "      <td>southeast</td>\n",
              "      <td>1131.5066</td>\n",
              "    </tr>\n",
              "    <tr>\n",
              "      <th>2</th>\n",
              "      <td>18.0</td>\n",
              "      <td>male</td>\n",
              "      <td>33.33</td>\n",
              "      <td>0.0</td>\n",
              "      <td>no</td>\n",
              "      <td>39023.62759</td>\n",
              "      <td>19.0</td>\n",
              "      <td>702341.0</td>\n",
              "      <td>6884860.774</td>\n",
              "      <td>0.0</td>\n",
              "      <td>73523107.27</td>\n",
              "      <td>southeast</td>\n",
              "      <td>1135.9407</td>\n",
              "    </tr>\n",
              "    <tr>\n",
              "      <th>3</th>\n",
              "      <td>18.0</td>\n",
              "      <td>male</td>\n",
              "      <td>33.66</td>\n",
              "      <td>0.0</td>\n",
              "      <td>no</td>\n",
              "      <td>28185.39332</td>\n",
              "      <td>11.0</td>\n",
              "      <td>700250.0</td>\n",
              "      <td>4274773.550</td>\n",
              "      <td>0.0</td>\n",
              "      <td>75819679.60</td>\n",
              "      <td>southeast</td>\n",
              "      <td>1136.3994</td>\n",
              "    </tr>\n",
              "    <tr>\n",
              "      <th>4</th>\n",
              "      <td>18.0</td>\n",
              "      <td>male</td>\n",
              "      <td>34.10</td>\n",
              "      <td>0.0</td>\n",
              "      <td>no</td>\n",
              "      <td>14697.85941</td>\n",
              "      <td>16.0</td>\n",
              "      <td>711584.0</td>\n",
              "      <td>3787293.921</td>\n",
              "      <td>0.0</td>\n",
              "      <td>23012320.01</td>\n",
              "      <td>southeast</td>\n",
              "      <td>1137.0110</td>\n",
              "    </tr>\n",
              "  </tbody>\n",
              "</table>\n",
              "</div>"
            ],
            "text/plain": [
              "    age   sex    bmi  children smoker  Claim_Amount  past_consultations  \\\n",
              "0  18.0  male  23.21       0.0     no   29087.54313                17.0   \n",
              "1  18.0  male  30.14       0.0     no   39053.67437                 7.0   \n",
              "2  18.0  male  33.33       0.0     no   39023.62759                19.0   \n",
              "3  18.0  male  33.66       0.0     no   28185.39332                11.0   \n",
              "4  18.0  male  34.10       0.0     no   14697.85941                16.0   \n",
              "\n",
              "   num_of_steps  Hospital_expenditure  NUmber_of_past_hospitalizations  \\\n",
              "0      715428.0           4720920.992                              0.0   \n",
              "1      699157.0           4329831.676                              0.0   \n",
              "2      702341.0           6884860.774                              0.0   \n",
              "3      700250.0           4274773.550                              0.0   \n",
              "4      711584.0           3787293.921                              0.0   \n",
              "\n",
              "   Anual_Salary     region    charges  \n",
              "0   55784970.05  southeast  1121.8739  \n",
              "1   13700885.19  southeast  1131.5066  \n",
              "2   73523107.27  southeast  1135.9407  \n",
              "3   75819679.60  southeast  1136.3994  \n",
              "4   23012320.01  southeast  1137.0110  "
            ]
          },
          "execution_count": 3,
          "metadata": {},
          "output_type": "execute_result"
        }
      ],
      "source": [
        "insurance.head()"
      ]
    },
    {
      "cell_type": "code",
      "execution_count": null,
      "id": "e053f9fb",
      "metadata": {
        "id": "e053f9fb"
      },
      "outputs": [],
      "source": [
        "# If the target column is containing a continuous data --> Regression algo\n",
        "# Regression --> Linear Regression, Decision Tree Regressor, Random Forest Regressor, Naive Bayes Reg, SVM\n",
        "\n",
        "# If the target column is containing a categorical data --> Classification algo\n",
        "# Classification --> Logistic Reg, Decision Tree Classifier, Random Forest Classifier, Naive Bayes Classifier,\n",
        "#                    SVM Classifier"
      ]
    },
    {
      "cell_type": "code",
      "execution_count": null,
      "id": "408370c3",
      "metadata": {
        "id": "408370c3"
      },
      "outputs": [],
      "source": [
        "# import libraries\n",
        "# import dataset\n",
        "# EDA --> Exploratory Data Analysis --> To undersatand the data\n",
        "# Data Cleaning\n",
        "# Data Preprocessing\n",
        "# Build Model"
      ]
    },
    {
      "cell_type": "markdown",
      "source": [
        "##Exploratory Data Analysis"
      ],
      "metadata": {
        "id": "MRXoKruHlZio"
      },
      "id": "MRXoKruHlZio"
    },
    {
      "cell_type": "code",
      "execution_count": null,
      "id": "469ea83d",
      "metadata": {
        "colab": {
          "base_uri": "https://localhost:8080/"
        },
        "id": "469ea83d",
        "outputId": "147914fd-1ac2-4d50-ea28-c5982bc2f5c9"
      },
      "outputs": [
        {
          "data": {
            "text/plain": [
              "(1338, 13)"
            ]
          },
          "execution_count": 5,
          "metadata": {},
          "output_type": "execute_result"
        }
      ],
      "source": [
        "insurance.shape  # The no. of rows and columns in the dataset"
      ]
    },
    {
      "cell_type": "code",
      "execution_count": null,
      "id": "8ceed77b",
      "metadata": {
        "colab": {
          "base_uri": "https://localhost:8080/"
        },
        "id": "8ceed77b",
        "outputId": "1d353437-2b53-4888-b01a-1c32e88cdad2"
      },
      "outputs": [
        {
          "data": {
            "text/plain": [
              "(1338, 13)"
            ]
          },
          "execution_count": 8,
          "metadata": {},
          "output_type": "execute_result"
        }
      ],
      "source": [
        "(1338,13)"
      ]
    },
    {
      "cell_type": "code",
      "execution_count": null,
      "id": "fc0c2381",
      "metadata": {
        "colab": {
          "base_uri": "https://localhost:8080/"
        },
        "id": "fc0c2381",
        "outputId": "1d806ea5-8911-41ff-e34d-8914e1e33159"
      },
      "outputs": [
        {
          "name": "stdout",
          "output_type": "stream",
          "text": [
            "<class 'pandas.core.frame.DataFrame'>\n",
            "RangeIndex: 1338 entries, 0 to 1337\n",
            "Data columns (total 13 columns):\n",
            " #   Column                           Non-Null Count  Dtype  \n",
            "---  ------                           --------------  -----  \n",
            " 0   age                              1329 non-null   float64\n",
            " 1   sex                              1338 non-null   object \n",
            " 2   bmi                              1335 non-null   float64\n",
            " 3   children                         1333 non-null   float64\n",
            " 4   smoker                           1338 non-null   object \n",
            " 5   Claim_Amount                     1324 non-null   float64\n",
            " 6   past_consultations               1332 non-null   float64\n",
            " 7   num_of_steps                     1335 non-null   float64\n",
            " 8   Hospital_expenditure             1334 non-null   float64\n",
            " 9   NUmber_of_past_hospitalizations  1336 non-null   float64\n",
            " 10  Anual_Salary                     1332 non-null   float64\n",
            " 11  region                           1338 non-null   object \n",
            " 12  charges                          1338 non-null   float64\n",
            "dtypes: float64(10), object(3)\n",
            "memory usage: 136.0+ KB\n"
          ]
        }
      ],
      "source": [
        "insurance.info()  # no. of  non-null values, total columns, no. of rows, data types of columns"
      ]
    },
    {
      "cell_type": "code",
      "execution_count": null,
      "id": "5GJ-yQaYfFbQ",
      "metadata": {
        "colab": {
          "base_uri": "https://localhost:8080/"
        },
        "id": "5GJ-yQaYfFbQ",
        "outputId": "7f9b188c-bb2b-4654-a302-99544b148a2b"
      },
      "outputs": [
        {
          "data": {
            "text/plain": [
              "9"
            ]
          },
          "execution_count": 10,
          "metadata": {},
          "output_type": "execute_result"
        }
      ],
      "source": [
        "1338 - 1329"
      ]
    },
    {
      "cell_type": "code",
      "execution_count": null,
      "id": "c7c161c9",
      "metadata": {
        "colab": {
          "base_uri": "https://localhost:8080/",
          "height": 487
        },
        "id": "c7c161c9",
        "outputId": "d626b311-991a-4995-8e3c-462bf2abaf5f"
      },
      "outputs": [
        {
          "data": {
            "text/html": [
              "<div>\n",
              "<style scoped>\n",
              "    .dataframe tbody tr th:only-of-type {\n",
              "        vertical-align: middle;\n",
              "    }\n",
              "\n",
              "    .dataframe tbody tr th {\n",
              "        vertical-align: top;\n",
              "    }\n",
              "\n",
              "    .dataframe thead th {\n",
              "        text-align: right;\n",
              "    }\n",
              "</style>\n",
              "<table border=\"1\" class=\"dataframe\">\n",
              "  <thead>\n",
              "    <tr style=\"text-align: right;\">\n",
              "      <th></th>\n",
              "      <th>age</th>\n",
              "      <th>sex</th>\n",
              "      <th>bmi</th>\n",
              "      <th>children</th>\n",
              "      <th>smoker</th>\n",
              "      <th>Claim_Amount</th>\n",
              "      <th>past_consultations</th>\n",
              "      <th>num_of_steps</th>\n",
              "      <th>Hospital_expenditure</th>\n",
              "      <th>NUmber_of_past_hospitalizations</th>\n",
              "      <th>Anual_Salary</th>\n",
              "      <th>region</th>\n",
              "      <th>charges</th>\n",
              "    </tr>\n",
              "  </thead>\n",
              "  <tbody>\n",
              "    <tr>\n",
              "      <th>0</th>\n",
              "      <td>False</td>\n",
              "      <td>False</td>\n",
              "      <td>False</td>\n",
              "      <td>False</td>\n",
              "      <td>False</td>\n",
              "      <td>False</td>\n",
              "      <td>False</td>\n",
              "      <td>False</td>\n",
              "      <td>False</td>\n",
              "      <td>False</td>\n",
              "      <td>False</td>\n",
              "      <td>False</td>\n",
              "      <td>False</td>\n",
              "    </tr>\n",
              "    <tr>\n",
              "      <th>1</th>\n",
              "      <td>False</td>\n",
              "      <td>False</td>\n",
              "      <td>False</td>\n",
              "      <td>False</td>\n",
              "      <td>False</td>\n",
              "      <td>False</td>\n",
              "      <td>False</td>\n",
              "      <td>False</td>\n",
              "      <td>False</td>\n",
              "      <td>False</td>\n",
              "      <td>False</td>\n",
              "      <td>False</td>\n",
              "      <td>False</td>\n",
              "    </tr>\n",
              "    <tr>\n",
              "      <th>2</th>\n",
              "      <td>False</td>\n",
              "      <td>False</td>\n",
              "      <td>False</td>\n",
              "      <td>False</td>\n",
              "      <td>False</td>\n",
              "      <td>False</td>\n",
              "      <td>False</td>\n",
              "      <td>False</td>\n",
              "      <td>False</td>\n",
              "      <td>False</td>\n",
              "      <td>False</td>\n",
              "      <td>False</td>\n",
              "      <td>False</td>\n",
              "    </tr>\n",
              "    <tr>\n",
              "      <th>3</th>\n",
              "      <td>False</td>\n",
              "      <td>False</td>\n",
              "      <td>False</td>\n",
              "      <td>False</td>\n",
              "      <td>False</td>\n",
              "      <td>False</td>\n",
              "      <td>False</td>\n",
              "      <td>False</td>\n",
              "      <td>False</td>\n",
              "      <td>False</td>\n",
              "      <td>False</td>\n",
              "      <td>False</td>\n",
              "      <td>False</td>\n",
              "    </tr>\n",
              "    <tr>\n",
              "      <th>4</th>\n",
              "      <td>False</td>\n",
              "      <td>False</td>\n",
              "      <td>False</td>\n",
              "      <td>False</td>\n",
              "      <td>False</td>\n",
              "      <td>False</td>\n",
              "      <td>False</td>\n",
              "      <td>False</td>\n",
              "      <td>False</td>\n",
              "      <td>False</td>\n",
              "      <td>False</td>\n",
              "      <td>False</td>\n",
              "      <td>False</td>\n",
              "    </tr>\n",
              "    <tr>\n",
              "      <th>...</th>\n",
              "      <td>...</td>\n",
              "      <td>...</td>\n",
              "      <td>...</td>\n",
              "      <td>...</td>\n",
              "      <td>...</td>\n",
              "      <td>...</td>\n",
              "      <td>...</td>\n",
              "      <td>...</td>\n",
              "      <td>...</td>\n",
              "      <td>...</td>\n",
              "      <td>...</td>\n",
              "      <td>...</td>\n",
              "      <td>...</td>\n",
              "    </tr>\n",
              "    <tr>\n",
              "      <th>1333</th>\n",
              "      <td>False</td>\n",
              "      <td>False</td>\n",
              "      <td>False</td>\n",
              "      <td>False</td>\n",
              "      <td>False</td>\n",
              "      <td>False</td>\n",
              "      <td>False</td>\n",
              "      <td>False</td>\n",
              "      <td>False</td>\n",
              "      <td>False</td>\n",
              "      <td>False</td>\n",
              "      <td>False</td>\n",
              "      <td>False</td>\n",
              "    </tr>\n",
              "    <tr>\n",
              "      <th>1334</th>\n",
              "      <td>False</td>\n",
              "      <td>False</td>\n",
              "      <td>False</td>\n",
              "      <td>False</td>\n",
              "      <td>False</td>\n",
              "      <td>False</td>\n",
              "      <td>False</td>\n",
              "      <td>False</td>\n",
              "      <td>False</td>\n",
              "      <td>False</td>\n",
              "      <td>False</td>\n",
              "      <td>False</td>\n",
              "      <td>False</td>\n",
              "    </tr>\n",
              "    <tr>\n",
              "      <th>1335</th>\n",
              "      <td>False</td>\n",
              "      <td>False</td>\n",
              "      <td>False</td>\n",
              "      <td>False</td>\n",
              "      <td>False</td>\n",
              "      <td>False</td>\n",
              "      <td>False</td>\n",
              "      <td>False</td>\n",
              "      <td>False</td>\n",
              "      <td>False</td>\n",
              "      <td>False</td>\n",
              "      <td>False</td>\n",
              "      <td>False</td>\n",
              "    </tr>\n",
              "    <tr>\n",
              "      <th>1336</th>\n",
              "      <td>False</td>\n",
              "      <td>False</td>\n",
              "      <td>False</td>\n",
              "      <td>False</td>\n",
              "      <td>False</td>\n",
              "      <td>False</td>\n",
              "      <td>False</td>\n",
              "      <td>False</td>\n",
              "      <td>False</td>\n",
              "      <td>False</td>\n",
              "      <td>False</td>\n",
              "      <td>False</td>\n",
              "      <td>False</td>\n",
              "    </tr>\n",
              "    <tr>\n",
              "      <th>1337</th>\n",
              "      <td>False</td>\n",
              "      <td>False</td>\n",
              "      <td>False</td>\n",
              "      <td>False</td>\n",
              "      <td>False</td>\n",
              "      <td>False</td>\n",
              "      <td>False</td>\n",
              "      <td>False</td>\n",
              "      <td>False</td>\n",
              "      <td>False</td>\n",
              "      <td>False</td>\n",
              "      <td>False</td>\n",
              "      <td>False</td>\n",
              "    </tr>\n",
              "  </tbody>\n",
              "</table>\n",
              "<p>1338 rows × 13 columns</p>\n",
              "</div>"
            ],
            "text/plain": [
              "        age    sex    bmi  children  smoker  Claim_Amount  past_consultations  \\\n",
              "0     False  False  False     False   False         False               False   \n",
              "1     False  False  False     False   False         False               False   \n",
              "2     False  False  False     False   False         False               False   \n",
              "3     False  False  False     False   False         False               False   \n",
              "4     False  False  False     False   False         False               False   \n",
              "...     ...    ...    ...       ...     ...           ...                 ...   \n",
              "1333  False  False  False     False   False         False               False   \n",
              "1334  False  False  False     False   False         False               False   \n",
              "1335  False  False  False     False   False         False               False   \n",
              "1336  False  False  False     False   False         False               False   \n",
              "1337  False  False  False     False   False         False               False   \n",
              "\n",
              "      num_of_steps  Hospital_expenditure  NUmber_of_past_hospitalizations  \\\n",
              "0            False                 False                            False   \n",
              "1            False                 False                            False   \n",
              "2            False                 False                            False   \n",
              "3            False                 False                            False   \n",
              "4            False                 False                            False   \n",
              "...            ...                   ...                              ...   \n",
              "1333         False                 False                            False   \n",
              "1334         False                 False                            False   \n",
              "1335         False                 False                            False   \n",
              "1336         False                 False                            False   \n",
              "1337         False                 False                            False   \n",
              "\n",
              "      Anual_Salary  region  charges  \n",
              "0            False   False    False  \n",
              "1            False   False    False  \n",
              "2            False   False    False  \n",
              "3            False   False    False  \n",
              "4            False   False    False  \n",
              "...            ...     ...      ...  \n",
              "1333         False   False    False  \n",
              "1334         False   False    False  \n",
              "1335         False   False    False  \n",
              "1336         False   False    False  \n",
              "1337         False   False    False  \n",
              "\n",
              "[1338 rows x 13 columns]"
            ]
          },
          "execution_count": 11,
          "metadata": {},
          "output_type": "execute_result"
        }
      ],
      "source": [
        "insurance.isnull()"
      ]
    },
    {
      "cell_type": "code",
      "execution_count": null,
      "id": "964ee215",
      "metadata": {
        "colab": {
          "base_uri": "https://localhost:8080/"
        },
        "id": "964ee215",
        "outputId": "1d327cda-6274-4e7d-84be-bc4417c237a8"
      },
      "outputs": [
        {
          "data": {
            "text/plain": [
              "age                                 9\n",
              "sex                                 0\n",
              "bmi                                 3\n",
              "children                            5\n",
              "smoker                              0\n",
              "Claim_Amount                       14\n",
              "past_consultations                  6\n",
              "num_of_steps                        3\n",
              "Hospital_expenditure                4\n",
              "NUmber_of_past_hospitalizations     2\n",
              "Anual_Salary                        6\n",
              "region                              0\n",
              "charges                             0\n",
              "dtype: int64"
            ]
          },
          "execution_count": 12,
          "metadata": {},
          "output_type": "execute_result"
        }
      ],
      "source": [
        "insurance.isnull().sum()"
      ]
    },
    {
      "cell_type": "code",
      "execution_count": null,
      "id": "8810aa7d",
      "metadata": {
        "colab": {
          "base_uri": "https://localhost:8080/",
          "height": 270
        },
        "id": "8810aa7d",
        "outputId": "db4ff805-51b8-4677-c66b-451fc566b585"
      },
      "outputs": [
        {
          "data": {
            "text/html": [
              "<div>\n",
              "<style scoped>\n",
              "    .dataframe tbody tr th:only-of-type {\n",
              "        vertical-align: middle;\n",
              "    }\n",
              "\n",
              "    .dataframe tbody tr th {\n",
              "        vertical-align: top;\n",
              "    }\n",
              "\n",
              "    .dataframe thead th {\n",
              "        text-align: right;\n",
              "    }\n",
              "</style>\n",
              "<table border=\"1\" class=\"dataframe\">\n",
              "  <thead>\n",
              "    <tr style=\"text-align: right;\">\n",
              "      <th></th>\n",
              "      <th>age</th>\n",
              "      <th>sex</th>\n",
              "      <th>bmi</th>\n",
              "      <th>children</th>\n",
              "      <th>smoker</th>\n",
              "      <th>Claim_Amount</th>\n",
              "      <th>past_consultations</th>\n",
              "      <th>num_of_steps</th>\n",
              "      <th>Hospital_expenditure</th>\n",
              "      <th>NUmber_of_past_hospitalizations</th>\n",
              "      <th>Anual_Salary</th>\n",
              "      <th>region</th>\n",
              "      <th>charges</th>\n",
              "    </tr>\n",
              "  </thead>\n",
              "  <tbody>\n",
              "    <tr>\n",
              "      <th>1333</th>\n",
              "      <td>33.0</td>\n",
              "      <td>female</td>\n",
              "      <td>35.530</td>\n",
              "      <td>0.0</td>\n",
              "      <td>yes</td>\n",
              "      <td>63142.25346</td>\n",
              "      <td>32.0</td>\n",
              "      <td>1091267.0</td>\n",
              "      <td>170380500.5</td>\n",
              "      <td>2.0</td>\n",
              "      <td>3.101107e+09</td>\n",
              "      <td>northwest</td>\n",
              "      <td>55135.40209</td>\n",
              "    </tr>\n",
              "    <tr>\n",
              "      <th>1334</th>\n",
              "      <td>31.0</td>\n",
              "      <td>female</td>\n",
              "      <td>38.095</td>\n",
              "      <td>1.0</td>\n",
              "      <td>yes</td>\n",
              "      <td>43419.95227</td>\n",
              "      <td>31.0</td>\n",
              "      <td>1107872.0</td>\n",
              "      <td>201515184.8</td>\n",
              "      <td>2.0</td>\n",
              "      <td>3.484216e+09</td>\n",
              "      <td>northeast</td>\n",
              "      <td>58571.07448</td>\n",
              "    </tr>\n",
              "    <tr>\n",
              "      <th>1335</th>\n",
              "      <td>52.0</td>\n",
              "      <td>male</td>\n",
              "      <td>34.485</td>\n",
              "      <td>3.0</td>\n",
              "      <td>yes</td>\n",
              "      <td>52458.92353</td>\n",
              "      <td>25.0</td>\n",
              "      <td>1092005.0</td>\n",
              "      <td>223644981.3</td>\n",
              "      <td>2.0</td>\n",
              "      <td>3.640807e+09</td>\n",
              "      <td>northwest</td>\n",
              "      <td>60021.39897</td>\n",
              "    </tr>\n",
              "    <tr>\n",
              "      <th>1336</th>\n",
              "      <td>45.0</td>\n",
              "      <td>male</td>\n",
              "      <td>30.360</td>\n",
              "      <td>0.0</td>\n",
              "      <td>yes</td>\n",
              "      <td>69927.51664</td>\n",
              "      <td>34.0</td>\n",
              "      <td>1106821.0</td>\n",
              "      <td>252892382.6</td>\n",
              "      <td>3.0</td>\n",
              "      <td>4.006359e+09</td>\n",
              "      <td>southeast</td>\n",
              "      <td>62592.87309</td>\n",
              "    </tr>\n",
              "    <tr>\n",
              "      <th>1337</th>\n",
              "      <td>54.0</td>\n",
              "      <td>female</td>\n",
              "      <td>47.410</td>\n",
              "      <td>0.0</td>\n",
              "      <td>yes</td>\n",
              "      <td>63982.80926</td>\n",
              "      <td>31.0</td>\n",
              "      <td>1100328.0</td>\n",
              "      <td>261631699.3</td>\n",
              "      <td>3.0</td>\n",
              "      <td>4.117197e+09</td>\n",
              "      <td>southeast</td>\n",
              "      <td>63770.42801</td>\n",
              "    </tr>\n",
              "  </tbody>\n",
              "</table>\n",
              "</div>"
            ],
            "text/plain": [
              "       age     sex     bmi  children smoker  Claim_Amount  past_consultations  \\\n",
              "1333  33.0  female  35.530       0.0    yes   63142.25346                32.0   \n",
              "1334  31.0  female  38.095       1.0    yes   43419.95227                31.0   \n",
              "1335  52.0    male  34.485       3.0    yes   52458.92353                25.0   \n",
              "1336  45.0    male  30.360       0.0    yes   69927.51664                34.0   \n",
              "1337  54.0  female  47.410       0.0    yes   63982.80926                31.0   \n",
              "\n",
              "      num_of_steps  Hospital_expenditure  NUmber_of_past_hospitalizations  \\\n",
              "1333     1091267.0           170380500.5                              2.0   \n",
              "1334     1107872.0           201515184.8                              2.0   \n",
              "1335     1092005.0           223644981.3                              2.0   \n",
              "1336     1106821.0           252892382.6                              3.0   \n",
              "1337     1100328.0           261631699.3                              3.0   \n",
              "\n",
              "      Anual_Salary     region      charges  \n",
              "1333  3.101107e+09  northwest  55135.40209  \n",
              "1334  3.484216e+09  northeast  58571.07448  \n",
              "1335  3.640807e+09  northwest  60021.39897  \n",
              "1336  4.006359e+09  southeast  62592.87309  \n",
              "1337  4.117197e+09  southeast  63770.42801  "
            ]
          },
          "execution_count": 12,
          "metadata": {},
          "output_type": "execute_result"
        }
      ],
      "source": [
        "insurance.tail()"
      ]
    },
    {
      "cell_type": "code",
      "execution_count": null,
      "id": "36f8177b",
      "metadata": {
        "colab": {
          "base_uri": "https://localhost:8080/",
          "height": 487
        },
        "id": "36f8177b",
        "outputId": "0e211465-c614-429b-fc0f-62fda88ed074"
      },
      "outputs": [
        {
          "data": {
            "text/html": [
              "<div>\n",
              "<style scoped>\n",
              "    .dataframe tbody tr th:only-of-type {\n",
              "        vertical-align: middle;\n",
              "    }\n",
              "\n",
              "    .dataframe tbody tr th {\n",
              "        vertical-align: top;\n",
              "    }\n",
              "\n",
              "    .dataframe thead th {\n",
              "        text-align: right;\n",
              "    }\n",
              "</style>\n",
              "<table border=\"1\" class=\"dataframe\">\n",
              "  <thead>\n",
              "    <tr style=\"text-align: right;\">\n",
              "      <th></th>\n",
              "      <th>age</th>\n",
              "      <th>sex</th>\n",
              "      <th>bmi</th>\n",
              "      <th>children</th>\n",
              "      <th>smoker</th>\n",
              "      <th>Claim_Amount</th>\n",
              "      <th>past_consultations</th>\n",
              "      <th>num_of_steps</th>\n",
              "      <th>Hospital_expenditure</th>\n",
              "      <th>NUmber_of_past_hospitalizations</th>\n",
              "      <th>Anual_Salary</th>\n",
              "      <th>region</th>\n",
              "      <th>charges</th>\n",
              "    </tr>\n",
              "  </thead>\n",
              "  <tbody>\n",
              "    <tr>\n",
              "      <th>0</th>\n",
              "      <td>18.0</td>\n",
              "      <td>male</td>\n",
              "      <td>23.210</td>\n",
              "      <td>0.0</td>\n",
              "      <td>no</td>\n",
              "      <td>29087.54313</td>\n",
              "      <td>17.0</td>\n",
              "      <td>715428.0</td>\n",
              "      <td>4.720921e+06</td>\n",
              "      <td>0.0</td>\n",
              "      <td>5.578497e+07</td>\n",
              "      <td>southeast</td>\n",
              "      <td>1121.87390</td>\n",
              "    </tr>\n",
              "    <tr>\n",
              "      <th>1</th>\n",
              "      <td>18.0</td>\n",
              "      <td>male</td>\n",
              "      <td>30.140</td>\n",
              "      <td>0.0</td>\n",
              "      <td>no</td>\n",
              "      <td>39053.67437</td>\n",
              "      <td>7.0</td>\n",
              "      <td>699157.0</td>\n",
              "      <td>4.329832e+06</td>\n",
              "      <td>0.0</td>\n",
              "      <td>1.370089e+07</td>\n",
              "      <td>southeast</td>\n",
              "      <td>1131.50660</td>\n",
              "    </tr>\n",
              "    <tr>\n",
              "      <th>2</th>\n",
              "      <td>18.0</td>\n",
              "      <td>male</td>\n",
              "      <td>33.330</td>\n",
              "      <td>0.0</td>\n",
              "      <td>no</td>\n",
              "      <td>39023.62759</td>\n",
              "      <td>19.0</td>\n",
              "      <td>702341.0</td>\n",
              "      <td>6.884861e+06</td>\n",
              "      <td>0.0</td>\n",
              "      <td>7.352311e+07</td>\n",
              "      <td>southeast</td>\n",
              "      <td>1135.94070</td>\n",
              "    </tr>\n",
              "    <tr>\n",
              "      <th>3</th>\n",
              "      <td>18.0</td>\n",
              "      <td>male</td>\n",
              "      <td>33.660</td>\n",
              "      <td>0.0</td>\n",
              "      <td>no</td>\n",
              "      <td>28185.39332</td>\n",
              "      <td>11.0</td>\n",
              "      <td>700250.0</td>\n",
              "      <td>4.274774e+06</td>\n",
              "      <td>0.0</td>\n",
              "      <td>7.581968e+07</td>\n",
              "      <td>southeast</td>\n",
              "      <td>1136.39940</td>\n",
              "    </tr>\n",
              "    <tr>\n",
              "      <th>4</th>\n",
              "      <td>18.0</td>\n",
              "      <td>male</td>\n",
              "      <td>34.100</td>\n",
              "      <td>0.0</td>\n",
              "      <td>no</td>\n",
              "      <td>14697.85941</td>\n",
              "      <td>16.0</td>\n",
              "      <td>711584.0</td>\n",
              "      <td>3.787294e+06</td>\n",
              "      <td>0.0</td>\n",
              "      <td>2.301232e+07</td>\n",
              "      <td>southeast</td>\n",
              "      <td>1137.01100</td>\n",
              "    </tr>\n",
              "    <tr>\n",
              "      <th>...</th>\n",
              "      <td>...</td>\n",
              "      <td>...</td>\n",
              "      <td>...</td>\n",
              "      <td>...</td>\n",
              "      <td>...</td>\n",
              "      <td>...</td>\n",
              "      <td>...</td>\n",
              "      <td>...</td>\n",
              "      <td>...</td>\n",
              "      <td>...</td>\n",
              "      <td>...</td>\n",
              "      <td>...</td>\n",
              "      <td>...</td>\n",
              "    </tr>\n",
              "    <tr>\n",
              "      <th>1333</th>\n",
              "      <td>33.0</td>\n",
              "      <td>female</td>\n",
              "      <td>35.530</td>\n",
              "      <td>0.0</td>\n",
              "      <td>yes</td>\n",
              "      <td>63142.25346</td>\n",
              "      <td>32.0</td>\n",
              "      <td>1091267.0</td>\n",
              "      <td>1.703805e+08</td>\n",
              "      <td>2.0</td>\n",
              "      <td>3.101107e+09</td>\n",
              "      <td>northwest</td>\n",
              "      <td>55135.40209</td>\n",
              "    </tr>\n",
              "    <tr>\n",
              "      <th>1334</th>\n",
              "      <td>31.0</td>\n",
              "      <td>female</td>\n",
              "      <td>38.095</td>\n",
              "      <td>1.0</td>\n",
              "      <td>yes</td>\n",
              "      <td>43419.95227</td>\n",
              "      <td>31.0</td>\n",
              "      <td>1107872.0</td>\n",
              "      <td>2.015152e+08</td>\n",
              "      <td>2.0</td>\n",
              "      <td>3.484216e+09</td>\n",
              "      <td>northeast</td>\n",
              "      <td>58571.07448</td>\n",
              "    </tr>\n",
              "    <tr>\n",
              "      <th>1335</th>\n",
              "      <td>52.0</td>\n",
              "      <td>male</td>\n",
              "      <td>34.485</td>\n",
              "      <td>3.0</td>\n",
              "      <td>yes</td>\n",
              "      <td>52458.92353</td>\n",
              "      <td>25.0</td>\n",
              "      <td>1092005.0</td>\n",
              "      <td>2.236450e+08</td>\n",
              "      <td>2.0</td>\n",
              "      <td>3.640807e+09</td>\n",
              "      <td>northwest</td>\n",
              "      <td>60021.39897</td>\n",
              "    </tr>\n",
              "    <tr>\n",
              "      <th>1336</th>\n",
              "      <td>45.0</td>\n",
              "      <td>male</td>\n",
              "      <td>30.360</td>\n",
              "      <td>0.0</td>\n",
              "      <td>yes</td>\n",
              "      <td>69927.51664</td>\n",
              "      <td>34.0</td>\n",
              "      <td>1106821.0</td>\n",
              "      <td>2.528924e+08</td>\n",
              "      <td>3.0</td>\n",
              "      <td>4.006359e+09</td>\n",
              "      <td>southeast</td>\n",
              "      <td>62592.87309</td>\n",
              "    </tr>\n",
              "    <tr>\n",
              "      <th>1337</th>\n",
              "      <td>54.0</td>\n",
              "      <td>female</td>\n",
              "      <td>47.410</td>\n",
              "      <td>0.0</td>\n",
              "      <td>yes</td>\n",
              "      <td>63982.80926</td>\n",
              "      <td>31.0</td>\n",
              "      <td>1100328.0</td>\n",
              "      <td>2.616317e+08</td>\n",
              "      <td>3.0</td>\n",
              "      <td>4.117197e+09</td>\n",
              "      <td>southeast</td>\n",
              "      <td>63770.42801</td>\n",
              "    </tr>\n",
              "  </tbody>\n",
              "</table>\n",
              "<p>1338 rows × 13 columns</p>\n",
              "</div>"
            ],
            "text/plain": [
              "       age     sex     bmi  children smoker  Claim_Amount  past_consultations  \\\n",
              "0     18.0    male  23.210       0.0     no   29087.54313                17.0   \n",
              "1     18.0    male  30.140       0.0     no   39053.67437                 7.0   \n",
              "2     18.0    male  33.330       0.0     no   39023.62759                19.0   \n",
              "3     18.0    male  33.660       0.0     no   28185.39332                11.0   \n",
              "4     18.0    male  34.100       0.0     no   14697.85941                16.0   \n",
              "...    ...     ...     ...       ...    ...           ...                 ...   \n",
              "1333  33.0  female  35.530       0.0    yes   63142.25346                32.0   \n",
              "1334  31.0  female  38.095       1.0    yes   43419.95227                31.0   \n",
              "1335  52.0    male  34.485       3.0    yes   52458.92353                25.0   \n",
              "1336  45.0    male  30.360       0.0    yes   69927.51664                34.0   \n",
              "1337  54.0  female  47.410       0.0    yes   63982.80926                31.0   \n",
              "\n",
              "      num_of_steps  Hospital_expenditure  NUmber_of_past_hospitalizations  \\\n",
              "0         715428.0          4.720921e+06                              0.0   \n",
              "1         699157.0          4.329832e+06                              0.0   \n",
              "2         702341.0          6.884861e+06                              0.0   \n",
              "3         700250.0          4.274774e+06                              0.0   \n",
              "4         711584.0          3.787294e+06                              0.0   \n",
              "...            ...                   ...                              ...   \n",
              "1333     1091267.0          1.703805e+08                              2.0   \n",
              "1334     1107872.0          2.015152e+08                              2.0   \n",
              "1335     1092005.0          2.236450e+08                              2.0   \n",
              "1336     1106821.0          2.528924e+08                              3.0   \n",
              "1337     1100328.0          2.616317e+08                              3.0   \n",
              "\n",
              "      Anual_Salary     region      charges  \n",
              "0     5.578497e+07  southeast   1121.87390  \n",
              "1     1.370089e+07  southeast   1131.50660  \n",
              "2     7.352311e+07  southeast   1135.94070  \n",
              "3     7.581968e+07  southeast   1136.39940  \n",
              "4     2.301232e+07  southeast   1137.01100  \n",
              "...            ...        ...          ...  \n",
              "1333  3.101107e+09  northwest  55135.40209  \n",
              "1334  3.484216e+09  northeast  58571.07448  \n",
              "1335  3.640807e+09  northwest  60021.39897  \n",
              "1336  4.006359e+09  southeast  62592.87309  \n",
              "1337  4.117197e+09  southeast  63770.42801  \n",
              "\n",
              "[1338 rows x 13 columns]"
            ]
          },
          "execution_count": 13,
          "metadata": {},
          "output_type": "execute_result"
        }
      ],
      "source": [
        "insurance"
      ]
    },
    {
      "cell_type": "code",
      "execution_count": null,
      "id": "8ab5dce9",
      "metadata": {
        "id": "8ab5dce9"
      },
      "outputs": [],
      "source": [
        "# Replacing the null values\n",
        "# When the data type is = object --> replace with mode()\n",
        "# When the data type is = Numeric --> replace with mean()/median()\n"
      ]
    },
    {
      "cell_type": "code",
      "execution_count": null,
      "id": "M-98oUgYRQZg",
      "metadata": {
        "colab": {
          "base_uri": "https://localhost:8080/"
        },
        "id": "M-98oUgYRQZg",
        "outputId": "c99cfd19-7c7b-4a58-f036-07132020025f"
      },
      "outputs": [
        {
          "data": {
            "text/plain": [
              "pandas.core.frame.DataFrame"
            ]
          },
          "execution_count": 13,
          "metadata": {},
          "output_type": "execute_result"
        }
      ],
      "source": [
        "type(insurance)"
      ]
    },
    {
      "cell_type": "code",
      "execution_count": null,
      "id": "dde2fb0d",
      "metadata": {
        "colab": {
          "base_uri": "https://localhost:8080/"
        },
        "id": "dde2fb0d",
        "outputId": "84608158-1c8c-4d8a-8b18-eecfc932007b"
      },
      "outputs": [
        {
          "data": {
            "text/plain": [
              "Index(['age', 'sex', 'bmi', 'children', 'smoker', 'Claim_Amount',\n",
              "       'past_consultations', 'num_of_steps', 'Hospital_expenditure',\n",
              "       'NUmber_of_past_hospitalizations', 'Anual_Salary', 'region', 'charges'],\n",
              "      dtype='object')"
            ]
          },
          "execution_count": 14,
          "metadata": {},
          "output_type": "execute_result"
        }
      ],
      "source": [
        "insurance.columns"
      ]
    },
    {
      "cell_type": "code",
      "execution_count": null,
      "id": "6f308235",
      "metadata": {
        "id": "6f308235"
      },
      "outputs": [],
      "source": [
        "col=list(insurance.columns)"
      ]
    },
    {
      "cell_type": "code",
      "execution_count": null,
      "id": "d628b87a",
      "metadata": {
        "colab": {
          "base_uri": "https://localhost:8080/"
        },
        "id": "d628b87a",
        "outputId": "5aac5056-a015-4845-b135-76322d191fd4"
      },
      "outputs": [
        {
          "data": {
            "text/plain": [
              "['age',\n",
              " 'sex',\n",
              " 'bmi',\n",
              " 'children',\n",
              " 'smoker',\n",
              " 'Claim_Amount',\n",
              " 'past_consultations',\n",
              " 'num_of_steps',\n",
              " 'Hospital_expenditure',\n",
              " 'NUmber_of_past_hospitalizations',\n",
              " 'Anual_Salary',\n",
              " 'region',\n",
              " 'charges']"
            ]
          },
          "execution_count": 16,
          "metadata": {},
          "output_type": "execute_result"
        }
      ],
      "source": [
        "col"
      ]
    },
    {
      "cell_type": "code",
      "execution_count": null,
      "id": "qajQ8agjgd6J",
      "metadata": {
        "colab": {
          "base_uri": "https://localhost:8080/"
        },
        "id": "qajQ8agjgd6J",
        "outputId": "f7693e1a-d740-4021-944c-5189168e46f3"
      },
      "outputs": [
        {
          "data": {
            "text/plain": [
              "list"
            ]
          },
          "execution_count": 17,
          "metadata": {},
          "output_type": "execute_result"
        }
      ],
      "source": [
        "type(col)"
      ]
    },
    {
      "cell_type": "code",
      "execution_count": null,
      "id": "2cc9da65",
      "metadata": {
        "colab": {
          "base_uri": "https://localhost:8080/",
          "height": 364
        },
        "id": "2cc9da65",
        "outputId": "afaf33e5-5983-43f9-d1ac-7d54c96e28fa"
      },
      "outputs": [
        {
          "data": {
            "text/html": [
              "<div>\n",
              "<style scoped>\n",
              "    .dataframe tbody tr th:only-of-type {\n",
              "        vertical-align: middle;\n",
              "    }\n",
              "\n",
              "    .dataframe tbody tr th {\n",
              "        vertical-align: top;\n",
              "    }\n",
              "\n",
              "    .dataframe thead th {\n",
              "        text-align: right;\n",
              "    }\n",
              "</style>\n",
              "<table border=\"1\" class=\"dataframe\">\n",
              "  <thead>\n",
              "    <tr style=\"text-align: right;\">\n",
              "      <th></th>\n",
              "      <th>age</th>\n",
              "      <th>bmi</th>\n",
              "      <th>children</th>\n",
              "      <th>Claim_Amount</th>\n",
              "      <th>past_consultations</th>\n",
              "      <th>num_of_steps</th>\n",
              "      <th>Hospital_expenditure</th>\n",
              "      <th>NUmber_of_past_hospitalizations</th>\n",
              "      <th>Anual_Salary</th>\n",
              "      <th>charges</th>\n",
              "    </tr>\n",
              "  </thead>\n",
              "  <tbody>\n",
              "    <tr>\n",
              "      <th>count</th>\n",
              "      <td>1329.000000</td>\n",
              "      <td>1335.000000</td>\n",
              "      <td>1333.000000</td>\n",
              "      <td>1324.000000</td>\n",
              "      <td>1332.000000</td>\n",
              "      <td>1.335000e+03</td>\n",
              "      <td>1.334000e+03</td>\n",
              "      <td>1336.000000</td>\n",
              "      <td>1.332000e+03</td>\n",
              "      <td>1338.000000</td>\n",
              "    </tr>\n",
              "    <tr>\n",
              "      <th>mean</th>\n",
              "      <td>39.310008</td>\n",
              "      <td>30.665112</td>\n",
              "      <td>1.090773</td>\n",
              "      <td>33361.327180</td>\n",
              "      <td>15.216216</td>\n",
              "      <td>9.100047e+05</td>\n",
              "      <td>1.584179e+07</td>\n",
              "      <td>1.060629</td>\n",
              "      <td>3.696849e+08</td>\n",
              "      <td>13270.422265</td>\n",
              "    </tr>\n",
              "    <tr>\n",
              "      <th>std</th>\n",
              "      <td>14.034818</td>\n",
              "      <td>6.101690</td>\n",
              "      <td>1.201856</td>\n",
              "      <td>15617.288337</td>\n",
              "      <td>7.467723</td>\n",
              "      <td>9.188612e+04</td>\n",
              "      <td>2.669305e+07</td>\n",
              "      <td>0.533583</td>\n",
              "      <td>5.668843e+08</td>\n",
              "      <td>12110.011237</td>\n",
              "    </tr>\n",
              "    <tr>\n",
              "      <th>min</th>\n",
              "      <td>18.000000</td>\n",
              "      <td>15.960000</td>\n",
              "      <td>0.000000</td>\n",
              "      <td>1920.136268</td>\n",
              "      <td>1.000000</td>\n",
              "      <td>6.954300e+05</td>\n",
              "      <td>2.945253e+04</td>\n",
              "      <td>0.000000</td>\n",
              "      <td>2.747072e+06</td>\n",
              "      <td>1121.873900</td>\n",
              "    </tr>\n",
              "    <tr>\n",
              "      <th>25%</th>\n",
              "      <td>27.000000</td>\n",
              "      <td>26.302500</td>\n",
              "      <td>0.000000</td>\n",
              "      <td>20768.860390</td>\n",
              "      <td>9.000000</td>\n",
              "      <td>8.471995e+05</td>\n",
              "      <td>4.077633e+06</td>\n",
              "      <td>1.000000</td>\n",
              "      <td>7.701932e+07</td>\n",
              "      <td>4740.287150</td>\n",
              "    </tr>\n",
              "    <tr>\n",
              "      <th>50%</th>\n",
              "      <td>39.000000</td>\n",
              "      <td>30.400000</td>\n",
              "      <td>1.000000</td>\n",
              "      <td>33700.310675</td>\n",
              "      <td>15.000000</td>\n",
              "      <td>9.143000e+05</td>\n",
              "      <td>7.490337e+06</td>\n",
              "      <td>1.000000</td>\n",
              "      <td>1.419361e+08</td>\n",
              "      <td>9382.033000</td>\n",
              "    </tr>\n",
              "    <tr>\n",
              "      <th>75%</th>\n",
              "      <td>51.000000</td>\n",
              "      <td>34.687500</td>\n",
              "      <td>2.000000</td>\n",
              "      <td>45052.331957</td>\n",
              "      <td>20.000000</td>\n",
              "      <td>9.716840e+05</td>\n",
              "      <td>1.084082e+07</td>\n",
              "      <td>1.000000</td>\n",
              "      <td>3.243499e+08</td>\n",
              "      <td>16639.912515</td>\n",
              "    </tr>\n",
              "    <tr>\n",
              "      <th>max</th>\n",
              "      <td>64.000000</td>\n",
              "      <td>53.130000</td>\n",
              "      <td>5.000000</td>\n",
              "      <td>77277.988480</td>\n",
              "      <td>40.000000</td>\n",
              "      <td>1.107872e+06</td>\n",
              "      <td>2.616317e+08</td>\n",
              "      <td>3.000000</td>\n",
              "      <td>4.117197e+09</td>\n",
              "      <td>63770.428010</td>\n",
              "    </tr>\n",
              "  </tbody>\n",
              "</table>\n",
              "</div>"
            ],
            "text/plain": [
              "               age          bmi     children  Claim_Amount  \\\n",
              "count  1329.000000  1335.000000  1333.000000   1324.000000   \n",
              "mean     39.310008    30.665112     1.090773  33361.327180   \n",
              "std      14.034818     6.101690     1.201856  15617.288337   \n",
              "min      18.000000    15.960000     0.000000   1920.136268   \n",
              "25%      27.000000    26.302500     0.000000  20768.860390   \n",
              "50%      39.000000    30.400000     1.000000  33700.310675   \n",
              "75%      51.000000    34.687500     2.000000  45052.331957   \n",
              "max      64.000000    53.130000     5.000000  77277.988480   \n",
              "\n",
              "       past_consultations  num_of_steps  Hospital_expenditure  \\\n",
              "count         1332.000000  1.335000e+03          1.334000e+03   \n",
              "mean            15.216216  9.100047e+05          1.584179e+07   \n",
              "std              7.467723  9.188612e+04          2.669305e+07   \n",
              "min              1.000000  6.954300e+05          2.945253e+04   \n",
              "25%              9.000000  8.471995e+05          4.077633e+06   \n",
              "50%             15.000000  9.143000e+05          7.490337e+06   \n",
              "75%             20.000000  9.716840e+05          1.084082e+07   \n",
              "max             40.000000  1.107872e+06          2.616317e+08   \n",
              "\n",
              "       NUmber_of_past_hospitalizations  Anual_Salary       charges  \n",
              "count                      1336.000000  1.332000e+03   1338.000000  \n",
              "mean                          1.060629  3.696849e+08  13270.422265  \n",
              "std                           0.533583  5.668843e+08  12110.011237  \n",
              "min                           0.000000  2.747072e+06   1121.873900  \n",
              "25%                           1.000000  7.701932e+07   4740.287150  \n",
              "50%                           1.000000  1.419361e+08   9382.033000  \n",
              "75%                           1.000000  3.243499e+08  16639.912515  \n",
              "max                           3.000000  4.117197e+09  63770.428010  "
            ]
          },
          "execution_count": 18,
          "metadata": {},
          "output_type": "execute_result"
        }
      ],
      "source": [
        "insurance.describe() # stats analysis"
      ]
    },
    {
      "cell_type": "code",
      "execution_count": null,
      "id": "b808e24c",
      "metadata": {
        "id": "b808e24c"
      },
      "outputs": [],
      "source": [
        "# 1,2,2,2,2,3,3,3,3,4,4,4,4 --> Mode --> 2,3,4 The value appearing most number of times"
      ]
    },
    {
      "cell_type": "code",
      "execution_count": null,
      "id": "b81c9366",
      "metadata": {
        "id": "b81c9366"
      },
      "outputs": [],
      "source": [
        "# 0  2   mode[0]\n",
        "# 1  3   mode[1]\n",
        "# 2  4   mode[2]"
      ]
    },
    {
      "cell_type": "code",
      "execution_count": null,
      "id": "62df1be6",
      "metadata": {
        "id": "62df1be6",
        "outputId": "f451770b-8cd7-4d98-b5a5-974012ad7fda"
      },
      "outputs": [
        {
          "data": {
            "text/plain": [
              "0     1\n",
              "1     2\n",
              "2     2\n",
              "3     2\n",
              "4     2\n",
              "5     3\n",
              "6     3\n",
              "7     3\n",
              "8     3\n",
              "9     4\n",
              "10    4\n",
              "11    4\n",
              "12    4\n",
              "dtype: int64"
            ]
          },
          "execution_count": 22,
          "metadata": {},
          "output_type": "execute_result"
        }
      ],
      "source": [
        "l = pd.Series([1,2,2,2,2,3,3,3,3,4,4,4,4])\n",
        "l"
      ]
    },
    {
      "cell_type": "code",
      "execution_count": null,
      "id": "2f3332cd",
      "metadata": {
        "id": "2f3332cd",
        "outputId": "531c83c7-e763-4191-dadc-50bb2462874a"
      },
      "outputs": [
        {
          "data": {
            "text/plain": [
              "0    2\n",
              "1    3\n",
              "2    4\n",
              "dtype: int64"
            ]
          },
          "execution_count": 23,
          "metadata": {},
          "output_type": "execute_result"
        }
      ],
      "source": [
        "l.mode()"
      ]
    },
    {
      "cell_type": "code",
      "execution_count": null,
      "id": "1e295e99",
      "metadata": {
        "id": "1e295e99",
        "outputId": "977d25d4-fa64-482f-9b01-bcd22f374038"
      },
      "outputs": [
        {
          "data": {
            "text/plain": [
              "3"
            ]
          },
          "execution_count": 24,
          "metadata": {},
          "output_type": "execute_result"
        }
      ],
      "source": [
        "l.mode()[1]"
      ]
    },
    {
      "cell_type": "code",
      "execution_count": null,
      "id": "ee0b8314",
      "metadata": {
        "colab": {
          "base_uri": "https://localhost:8080/"
        },
        "id": "ee0b8314",
        "outputId": "e43dfd4c-b117-48a6-d3ce-5fbd5b675bd1"
      },
      "outputs": [
        {
          "data": {
            "text/plain": [
              "0    no\n",
              "Name: smoker, dtype: object"
            ]
          },
          "execution_count": 23,
          "metadata": {},
          "output_type": "execute_result"
        }
      ],
      "source": [
        "insurance['smoker'].mode()"
      ]
    },
    {
      "cell_type": "code",
      "execution_count": null,
      "id": "fb724242",
      "metadata": {
        "colab": {
          "base_uri": "https://localhost:8080/",
          "height": 36
        },
        "id": "fb724242",
        "outputId": "baa25cfc-09d2-4079-d79e-23b54f55f9db"
      },
      "outputs": [
        {
          "data": {
            "text/plain": [
              "'no'"
            ]
          },
          "execution_count": 24,
          "metadata": {},
          "output_type": "execute_result"
        }
      ],
      "source": [
        "insurance['smoker'].mode()[0]"
      ]
    },
    {
      "cell_type": "code",
      "execution_count": null,
      "id": "SNvre2BCkuFC",
      "metadata": {
        "colab": {
          "base_uri": "https://localhost:8080/"
        },
        "id": "SNvre2BCkuFC",
        "outputId": "d0b5a3d6-0da4-4cc5-8b04-edb96fa575ea"
      },
      "outputs": [
        {
          "data": {
            "text/plain": [
              "1.0907726931732933"
            ]
          },
          "execution_count": 25,
          "metadata": {},
          "output_type": "execute_result"
        }
      ],
      "source": [
        "insurance['children'].mean()"
      ]
    },
    {
      "cell_type": "code",
      "execution_count": null,
      "id": "23df7962",
      "metadata": {
        "colab": {
          "base_uri": "https://localhost:8080/"
        },
        "id": "23df7962",
        "outputId": "4584be2f-f7e5-40a3-d149-6deda7c2ff9f"
      },
      "outputs": [
        {
          "data": {
            "text/plain": [
              "39.31000752445448"
            ]
          },
          "execution_count": 26,
          "metadata": {},
          "output_type": "execute_result"
        }
      ],
      "source": [
        "insurance['age'].mean()"
      ]
    },
    {
      "cell_type": "code",
      "execution_count": null,
      "id": "qig440OVkJXz",
      "metadata": {
        "colab": {
          "base_uri": "https://localhost:8080/"
        },
        "id": "qig440OVkJXz",
        "outputId": "fca36478-d90b-4348-80a8-48d5668b1116"
      },
      "outputs": [
        {
          "data": {
            "text/plain": [
              "age                                 9\n",
              "sex                                 0\n",
              "bmi                                 3\n",
              "children                            5\n",
              "smoker                              0\n",
              "Claim_Amount                       14\n",
              "past_consultations                  6\n",
              "num_of_steps                        3\n",
              "Hospital_expenditure                4\n",
              "NUmber_of_past_hospitalizations     2\n",
              "Anual_Salary                        6\n",
              "region                              0\n",
              "charges                             0\n",
              "dtype: int64"
            ]
          },
          "execution_count": 27,
          "metadata": {},
          "output_type": "execute_result"
        }
      ],
      "source": [
        "insurance.isnull().sum()"
      ]
    },
    {
      "cell_type": "code",
      "execution_count": null,
      "id": "861f921a",
      "metadata": {
        "colab": {
          "base_uri": "https://localhost:8080/"
        },
        "id": "861f921a",
        "outputId": "a432ba39-b4f7-4364-a3c0-83123a65721e"
      },
      "outputs": [
        {
          "data": {
            "text/plain": [
              "['age',\n",
              " 'sex',\n",
              " 'bmi',\n",
              " 'children',\n",
              " 'smoker',\n",
              " 'Claim_Amount',\n",
              " 'past_consultations',\n",
              " 'num_of_steps',\n",
              " 'Hospital_expenditure',\n",
              " 'NUmber_of_past_hospitalizations',\n",
              " 'Anual_Salary',\n",
              " 'region',\n",
              " 'charges']"
            ]
          },
          "execution_count": 28,
          "metadata": {},
          "output_type": "execute_result"
        }
      ],
      "source": [
        "col"
      ]
    },
    {
      "cell_type": "markdown",
      "source": [
        "##Data Cleaning"
      ],
      "metadata": {
        "id": "RQiscsdClo5o"
      },
      "id": "RQiscsdClo5o"
    },
    {
      "cell_type": "code",
      "execution_count": null,
      "id": "924c0c04",
      "metadata": {
        "id": "924c0c04"
      },
      "outputs": [],
      "source": [
        "# Replacing the null values with mean and mode\n",
        "for i in col:  # for i in col: i --> values present in col\n",
        "    if insurance[i].dtypes=='object':\n",
        "        #print('ob')\n",
        "        insurance[i] = insurance[i].fillna(insurance[i].mode()[0])\n",
        "    else:\n",
        "        #print('num')\n",
        "        insurance[i] = insurance[i].fillna(insurance[i].mean())"
      ]
    },
    {
      "cell_type": "code",
      "execution_count": null,
      "id": "829719ee",
      "metadata": {
        "id": "829719ee"
      },
      "outputs": [],
      "source": [
        "# To find the upper limit --> Q3 + 1.5*IQR\n",
        "# To find the lower limit --> Q1 - 1.5*IQR"
      ]
    },
    {
      "cell_type": "code",
      "execution_count": null,
      "id": "uZXQmLhchQmZ",
      "metadata": {
        "id": "uZXQmLhchQmZ",
        "outputId": "fd34d2dd-72cb-4bd6-e884-cba932865bf3"
      },
      "outputs": [
        {
          "data": {
            "text/plain": [
              "'#object ---> mode\\n# num------> mean/median\\n\\n #mode---> most repeated data----> object\\n\\n#numeric\\n #median---> center\\n# mean---> avg\\n\\n10 5 50 17 15 ?\\nmean---> 20\\nmedian---> 15\\n5 10 15 17 99\\n\\n#  mode\\ny n y y y n ?\\ny--->4\\nn--->2\\nY'"
            ]
          },
          "execution_count": 27,
          "metadata": {},
          "output_type": "execute_result"
        }
      ],
      "source": [
        "'''#object ---> mode\n",
        "# num------> mean/median\n",
        "\n",
        " #mode---> most repeated data----> object\n",
        "\n",
        "#numeric\n",
        " #median---> center\n",
        "# mean---> avg\n",
        "\n",
        "10 5 50 17 15 ?\n",
        "mean---> 20\n",
        "median---> 15\n",
        "5 10 15 17 99\n",
        "\n",
        "#  mode\n",
        "y n y y y n ?\n",
        "y--->4\n",
        "n--->2\n",
        "Y'''"
      ]
    },
    {
      "cell_type": "code",
      "execution_count": null,
      "id": "2lyv7IILjCrA",
      "metadata": {
        "id": "2lyv7IILjCrA"
      },
      "outputs": [],
      "source": [
        "#10 + 5 + 50 + 17 + 15\n",
        "#97/5\n",
        "# fillna() --> replace the null values with mean, median, mode"
      ]
    },
    {
      "cell_type": "code",
      "execution_count": null,
      "id": "2c34477b",
      "metadata": {
        "colab": {
          "base_uri": "https://localhost:8080/"
        },
        "id": "2c34477b",
        "outputId": "d3132c89-3203-4367-d0d1-9ee65da8903d"
      },
      "outputs": [
        {
          "data": {
            "text/plain": [
              "age                                0\n",
              "sex                                0\n",
              "bmi                                0\n",
              "children                           0\n",
              "smoker                             0\n",
              "Claim_Amount                       0\n",
              "past_consultations                 0\n",
              "num_of_steps                       0\n",
              "Hospital_expenditure               0\n",
              "NUmber_of_past_hospitalizations    0\n",
              "Anual_Salary                       0\n",
              "region                             0\n",
              "charges                            0\n",
              "dtype: int64"
            ]
          },
          "execution_count": 33,
          "metadata": {},
          "output_type": "execute_result"
        }
      ],
      "source": [
        "insurance.isnull().sum()"
      ]
    },
    {
      "cell_type": "code",
      "execution_count": null,
      "id": "9c5789c1",
      "metadata": {
        "colab": {
          "base_uri": "https://localhost:8080/"
        },
        "id": "9c5789c1",
        "outputId": "5b037d51-1a3c-4ff5-81f8-4e33971c348a"
      },
      "outputs": [
        {
          "data": {
            "text/plain": [
              "(1338, 13)"
            ]
          },
          "execution_count": 34,
          "metadata": {},
          "output_type": "execute_result"
        }
      ],
      "source": [
        "insurance.shape"
      ]
    },
    {
      "cell_type": "code",
      "execution_count": null,
      "id": "dead1233",
      "metadata": {
        "colab": {
          "base_uri": "https://localhost:8080/"
        },
        "id": "dead1233",
        "outputId": "c14c085f-7556-4830-bc69-796064b96443"
      },
      "outputs": [
        {
          "data": {
            "text/plain": [
              "dtype('float64')"
            ]
          },
          "execution_count": 29,
          "metadata": {},
          "output_type": "execute_result"
        }
      ],
      "source": [
        "insurance['age'].dtype # for knowing the data type of a column"
      ]
    },
    {
      "cell_type": "code",
      "execution_count": null,
      "id": "c169fbcf",
      "metadata": {
        "colab": {
          "base_uri": "https://localhost:8080/",
          "height": 270
        },
        "id": "c169fbcf",
        "outputId": "277c3903-3d3b-424c-a778-89c669afebf7"
      },
      "outputs": [
        {
          "data": {
            "text/html": [
              "<div>\n",
              "<style scoped>\n",
              "    .dataframe tbody tr th:only-of-type {\n",
              "        vertical-align: middle;\n",
              "    }\n",
              "\n",
              "    .dataframe tbody tr th {\n",
              "        vertical-align: top;\n",
              "    }\n",
              "\n",
              "    .dataframe thead th {\n",
              "        text-align: right;\n",
              "    }\n",
              "</style>\n",
              "<table border=\"1\" class=\"dataframe\">\n",
              "  <thead>\n",
              "    <tr style=\"text-align: right;\">\n",
              "      <th></th>\n",
              "      <th>age</th>\n",
              "      <th>sex</th>\n",
              "      <th>bmi</th>\n",
              "      <th>children</th>\n",
              "      <th>smoker</th>\n",
              "      <th>Claim_Amount</th>\n",
              "      <th>past_consultations</th>\n",
              "      <th>num_of_steps</th>\n",
              "      <th>Hospital_expenditure</th>\n",
              "      <th>NUmber_of_past_hospitalizations</th>\n",
              "      <th>Anual_Salary</th>\n",
              "      <th>region</th>\n",
              "      <th>charges</th>\n",
              "    </tr>\n",
              "  </thead>\n",
              "  <tbody>\n",
              "    <tr>\n",
              "      <th>0</th>\n",
              "      <td>18.0</td>\n",
              "      <td>male</td>\n",
              "      <td>23.21</td>\n",
              "      <td>0.0</td>\n",
              "      <td>no</td>\n",
              "      <td>29087.54313</td>\n",
              "      <td>17.0</td>\n",
              "      <td>715428.0</td>\n",
              "      <td>4720920.992</td>\n",
              "      <td>0.0</td>\n",
              "      <td>55784970.05</td>\n",
              "      <td>southeast</td>\n",
              "      <td>1121.8739</td>\n",
              "    </tr>\n",
              "    <tr>\n",
              "      <th>1</th>\n",
              "      <td>18.0</td>\n",
              "      <td>male</td>\n",
              "      <td>30.14</td>\n",
              "      <td>0.0</td>\n",
              "      <td>no</td>\n",
              "      <td>39053.67437</td>\n",
              "      <td>7.0</td>\n",
              "      <td>699157.0</td>\n",
              "      <td>4329831.676</td>\n",
              "      <td>0.0</td>\n",
              "      <td>13700885.19</td>\n",
              "      <td>southeast</td>\n",
              "      <td>1131.5066</td>\n",
              "    </tr>\n",
              "    <tr>\n",
              "      <th>2</th>\n",
              "      <td>18.0</td>\n",
              "      <td>male</td>\n",
              "      <td>33.33</td>\n",
              "      <td>0.0</td>\n",
              "      <td>no</td>\n",
              "      <td>39023.62759</td>\n",
              "      <td>19.0</td>\n",
              "      <td>702341.0</td>\n",
              "      <td>6884860.774</td>\n",
              "      <td>0.0</td>\n",
              "      <td>73523107.27</td>\n",
              "      <td>southeast</td>\n",
              "      <td>1135.9407</td>\n",
              "    </tr>\n",
              "    <tr>\n",
              "      <th>3</th>\n",
              "      <td>18.0</td>\n",
              "      <td>male</td>\n",
              "      <td>33.66</td>\n",
              "      <td>0.0</td>\n",
              "      <td>no</td>\n",
              "      <td>28185.39332</td>\n",
              "      <td>11.0</td>\n",
              "      <td>700250.0</td>\n",
              "      <td>4274773.550</td>\n",
              "      <td>0.0</td>\n",
              "      <td>75819679.60</td>\n",
              "      <td>southeast</td>\n",
              "      <td>1136.3994</td>\n",
              "    </tr>\n",
              "    <tr>\n",
              "      <th>4</th>\n",
              "      <td>18.0</td>\n",
              "      <td>male</td>\n",
              "      <td>34.10</td>\n",
              "      <td>0.0</td>\n",
              "      <td>no</td>\n",
              "      <td>14697.85941</td>\n",
              "      <td>16.0</td>\n",
              "      <td>711584.0</td>\n",
              "      <td>3787293.921</td>\n",
              "      <td>0.0</td>\n",
              "      <td>23012320.01</td>\n",
              "      <td>southeast</td>\n",
              "      <td>1137.0110</td>\n",
              "    </tr>\n",
              "  </tbody>\n",
              "</table>\n",
              "</div>"
            ],
            "text/plain": [
              "    age   sex    bmi  children smoker  Claim_Amount  past_consultations  \\\n",
              "0  18.0  male  23.21       0.0     no   29087.54313                17.0   \n",
              "1  18.0  male  30.14       0.0     no   39053.67437                 7.0   \n",
              "2  18.0  male  33.33       0.0     no   39023.62759                19.0   \n",
              "3  18.0  male  33.66       0.0     no   28185.39332                11.0   \n",
              "4  18.0  male  34.10       0.0     no   14697.85941                16.0   \n",
              "\n",
              "   num_of_steps  Hospital_expenditure  NUmber_of_past_hospitalizations  \\\n",
              "0      715428.0           4720920.992                              0.0   \n",
              "1      699157.0           4329831.676                              0.0   \n",
              "2      702341.0           6884860.774                              0.0   \n",
              "3      700250.0           4274773.550                              0.0   \n",
              "4      711584.0           3787293.921                              0.0   \n",
              "\n",
              "   Anual_Salary     region    charges  \n",
              "0   55784970.05  southeast  1121.8739  \n",
              "1   13700885.19  southeast  1131.5066  \n",
              "2   73523107.27  southeast  1135.9407  \n",
              "3   75819679.60  southeast  1136.3994  \n",
              "4   23012320.01  southeast  1137.0110  "
            ]
          },
          "execution_count": 30,
          "metadata": {},
          "output_type": "execute_result"
        }
      ],
      "source": [
        "insurance.head()"
      ]
    },
    {
      "cell_type": "code",
      "execution_count": null,
      "id": "73e61a07",
      "metadata": {
        "colab": {
          "base_uri": "https://localhost:8080/"
        },
        "id": "73e61a07",
        "outputId": "4bff88b1-cbe9-4cc4-abe8-ed1e852af18f"
      },
      "outputs": [
        {
          "data": {
            "text/plain": [
              "['age',\n",
              " 'sex',\n",
              " 'bmi',\n",
              " 'children',\n",
              " 'smoker',\n",
              " 'Claim_Amount',\n",
              " 'past_consultations',\n",
              " 'num_of_steps',\n",
              " 'Hospital_expenditure',\n",
              " 'NUmber_of_past_hospitalizations',\n",
              " 'Anual_Salary',\n",
              " 'region',\n",
              " 'charges']"
            ]
          },
          "execution_count": 31,
          "metadata": {},
          "output_type": "execute_result"
        }
      ],
      "source": [
        "col"
      ]
    },
    {
      "cell_type": "code",
      "execution_count": null,
      "id": "f2e2c157",
      "metadata": {
        "id": "f2e2c157"
      },
      "outputs": [],
      "source": [
        "#seaborn\n",
        "# I want to check the distribution of the data\n",
        "import seaborn as sns"
      ]
    },
    {
      "cell_type": "code",
      "execution_count": null,
      "id": "41de9876",
      "metadata": {
        "id": "41de9876",
        "outputId": "c55ee2ae-2a26-48fe-900e-6c3178a169cb"
      },
      "outputs": [
        {
          "data": {
            "text/plain": [
              "['age',\n",
              " 'sex',\n",
              " 'bmi',\n",
              " 'children',\n",
              " 'smoker',\n",
              " 'Claim_Amount',\n",
              " 'past_consultations',\n",
              " 'num_of_steps',\n",
              " 'Hospital_expenditure',\n",
              " 'NUmber_of_past_hospitalizations',\n",
              " 'Anual_Salary',\n",
              " 'region',\n",
              " 'charges']"
            ]
          },
          "execution_count": 33,
          "metadata": {},
          "output_type": "execute_result"
        }
      ],
      "source": [
        "col"
      ]
    },
    {
      "cell_type": "code",
      "execution_count": null,
      "id": "7f32ba9b",
      "metadata": {
        "colab": {
          "base_uri": "https://localhost:8080/",
          "height": 1000
        },
        "id": "7f32ba9b",
        "outputId": "a55f31b8-bf6f-4c6f-ac53-83261bab3fde"
      },
      "outputs": [
        {
          "data": {
            "image/png": "[encoded data removed]",
            "text/plain": [
              "<Figure size 640x480 with 1 Axes>"
            ]
          },
          "metadata": {},
          "output_type": "display_data"
        },
        {
          "data": {
            "image/png": "[encoded data removed]",
            "text/plain": [
              "<Figure size 640x480 with 1 Axes>"
            ]
          },
          "metadata": {},
          "output_type": "display_data"
        },
        {
          "data": {
            "image/png": "[encoded data removed]",
            "text/plain": [
              "<Figure size 640x480 with 1 Axes>"
            ]
          },
          "metadata": {},
          "output_type": "display_data"
        },
        {
          "data": {
            "image/png": "[encoded data removed]",
            "text/plain": [
              "<Figure size 640x480 with 1 Axes>"
            ]
          },
          "metadata": {},
          "output_type": "display_data"
        },
        {
          "data": {
            "image/png": "[encoded data removed]",
            "text/plain": [
              "<Figure size 640x480 with 1 Axes>"
            ]
          },
          "metadata": {},
          "output_type": "display_data"
        },
        {
          "data": {
            "image/png": "[encoded data removed]",
            "text/plain": [
              "<Figure size 640x480 with 1 Axes>"
            ]
          },
          "metadata": {},
          "output_type": "display_data"
        },
        {
          "data": {
            "image/png": "[encoded data removed]",
            "text/plain": [
              "<Figure size 640x480 with 1 Axes>"
            ]
          },
          "metadata": {},
          "output_type": "display_data"
        },
        {
          "data": {
            "image/png": "[encoded data removed]",
            "text/plain": [
              "<Figure size 640x480 with 1 Axes>"
            ]
          },
          "metadata": {},
          "output_type": "display_data"
        },
        {
          "data": {
            "image/png": "[encoded data removed]",
            "text/plain": [
              "<Figure size 640x480 with 1 Axes>"
            ]
          },
          "metadata": {},
          "output_type": "display_data"
        },
        {
          "data": {
            "image/png": "[encoded data removed]",
            "text/plain": [
              "<Figure size 640x480 with 1 Axes>"
            ]
          },
          "metadata": {},
          "output_type": "display_data"
        }
      ],
      "source": [
        "# The distribution of the data\n",
        "for col_name in col:\n",
        "    if(insurance[col_name].dtypes=='int64' or insurance[col_name].dtypes=='float64'):\n",
        "        plt.hist(insurance[col_name])\n",
        "        plt.xlabel(col_name)\n",
        "        plt.ylabel('count')\n",
        "        plt.show()"
      ]
    },
    {
      "cell_type": "code",
      "execution_count": null,
      "id": "2Sgf1p_0oFpa",
      "metadata": {
        "colab": {
          "base_uri": "https://localhost:8080/"
        },
        "id": "2Sgf1p_0oFpa",
        "outputId": "81e2e013-6c2c-4dd7-89fd-10814ac5375d"
      },
      "outputs": [
        {
          "data": {
            "text/plain": [
              "['age',\n",
              " 'sex',\n",
              " 'bmi',\n",
              " 'children',\n",
              " 'smoker',\n",
              " 'Claim_Amount',\n",
              " 'past_consultations',\n",
              " 'num_of_steps',\n",
              " 'Hospital_expenditure',\n",
              " 'NUmber_of_past_hospitalizations',\n",
              " 'Anual_Salary',\n",
              " 'region',\n",
              " 'charges']"
            ]
          },
          "execution_count": 80,
          "metadata": {},
          "output_type": "execute_result"
        }
      ],
      "source": [
        "col"
      ]
    },
    {
      "cell_type": "code",
      "execution_count": null,
      "id": "298b7a30",
      "metadata": {
        "colab": {
          "base_uri": "https://localhost:8080/",
          "height": 1000
        },
        "id": "298b7a30",
        "outputId": "d30ad5df-6e9c-47ab-b026-cdd05753142a"
      },
      "outputs": [
        {
          "data": {
            "image/png": "[encoded data removed]",
            "text/plain": [
              "<Figure size 640x480 with 1 Axes>"
            ]
          },
          "metadata": {},
          "output_type": "display_data"
        },
        {
          "data": {
            "image/png": "[encoded data removed]",
            "text/plain": [
              "<Figure size 640x480 with 1 Axes>"
            ]
          },
          "metadata": {},
          "output_type": "display_data"
        },
        {
          "data": {
            "image/png": "[encoded data removed]",
            "text/plain": [
              "<Figure size 640x480 with 1 Axes>"
            ]
          },
          "metadata": {},
          "output_type": "display_data"
        },
        {
          "data": {
            "image/png": "[encoded data removed]",
            "text/plain": [
              "<Figure size 640x480 with 1 Axes>"
            ]
          },
          "metadata": {},
          "output_type": "display_data"
        },
        {
          "data": {
            "image/png": "[encoded data removed]",
            "text/plain": [
              "<Figure size 640x480 with 1 Axes>"
            ]
          },
          "metadata": {},
          "output_type": "display_data"
        },
        {
          "data": {
            "image/png": "[encoded data removed]",
            "text/plain": [
              "<Figure size 640x480 with 1 Axes>"
            ]
          },
          "metadata": {},
          "output_type": "display_data"
        },
        {
          "data": {
            "image/png": "[encoded data removed]",
            "text/plain": [
              "<Figure size 640x480 with 1 Axes>"
            ]
          },
          "metadata": {},
          "output_type": "display_data"
        },
        {
          "data": {
            "image/png": "[encoded data removed]",
            "text/plain": [
              "<Figure size 640x480 with 1 Axes>"
            ]
          },
          "metadata": {},
          "output_type": "display_data"
        },
        {
          "data": {
            "image/png": "[encoded data removed]",
            "text/plain": [
              "<Figure size 640x480 with 1 Axes>"
            ]
          },
          "metadata": {},
          "output_type": "display_data"
        },
        {
          "data": {
            "image/png": "[encoded data removed]",
            "text/plain": [
              "<Figure size 640x480 with 1 Axes>"
            ]
          },
          "metadata": {},
          "output_type": "display_data"
        }
      ],
      "source": [
        "for col_name in col:\n",
        "    if(insurance[col_name].dtypes=='int64' or insurance[col_name].dtypes=='float64'):\n",
        "        plt.boxplot(insurance[col_name])\n",
        "        plt.xlabel(col_name)\n",
        "        plt.ylabel('count')\n",
        "        plt.show()"
      ]
    },
    {
      "cell_type": "code",
      "execution_count": null,
      "id": "U52Pe6z2qTIp",
      "metadata": {
        "id": "U52Pe6z2qTIp",
        "outputId": "42ab246d-aa05-49da-fb6d-d61ca5642a22"
      },
      "outputs": [
        {
          "data": {
            "text/html": [
              "<div>\n",
              "<style scoped>\n",
              "    .dataframe tbody tr th:only-of-type {\n",
              "        vertical-align: middle;\n",
              "    }\n",
              "\n",
              "    .dataframe tbody tr th {\n",
              "        vertical-align: top;\n",
              "    }\n",
              "\n",
              "    .dataframe thead th {\n",
              "        text-align: right;\n",
              "    }\n",
              "</style>\n",
              "<table border=\"1\" class=\"dataframe\">\n",
              "  <thead>\n",
              "    <tr style=\"text-align: right;\">\n",
              "      <th></th>\n",
              "      <th>age</th>\n",
              "      <th>bmi</th>\n",
              "      <th>children</th>\n",
              "      <th>Claim_Amount</th>\n",
              "      <th>past_consultations</th>\n",
              "      <th>num_of_steps</th>\n",
              "      <th>Hospital_expenditure</th>\n",
              "      <th>NUmber_of_past_hospitalizations</th>\n",
              "      <th>Anual_Salary</th>\n",
              "      <th>charges</th>\n",
              "    </tr>\n",
              "  </thead>\n",
              "  <tbody>\n",
              "    <tr>\n",
              "      <th>count</th>\n",
              "      <td>1338.000000</td>\n",
              "      <td>1338.000000</td>\n",
              "      <td>1338.000000</td>\n",
              "      <td>1338.000000</td>\n",
              "      <td>1338.000000</td>\n",
              "      <td>1.338000e+03</td>\n",
              "      <td>1.338000e+03</td>\n",
              "      <td>1338.000000</td>\n",
              "      <td>1.338000e+03</td>\n",
              "      <td>1338.000000</td>\n",
              "    </tr>\n",
              "    <tr>\n",
              "      <th>mean</th>\n",
              "      <td>39.310008</td>\n",
              "      <td>30.665112</td>\n",
              "      <td>1.090773</td>\n",
              "      <td>33361.327180</td>\n",
              "      <td>15.216216</td>\n",
              "      <td>9.100047e+05</td>\n",
              "      <td>1.584179e+07</td>\n",
              "      <td>1.060629</td>\n",
              "      <td>3.696849e+08</td>\n",
              "      <td>13270.422265</td>\n",
              "    </tr>\n",
              "    <tr>\n",
              "      <th>std</th>\n",
              "      <td>13.987500</td>\n",
              "      <td>6.094840</td>\n",
              "      <td>1.199606</td>\n",
              "      <td>15535.307255</td>\n",
              "      <td>7.450948</td>\n",
              "      <td>9.178297e+04</td>\n",
              "      <td>2.665309e+07</td>\n",
              "      <td>0.533184</td>\n",
              "      <td>5.656109e+08</td>\n",
              "      <td>12110.011237</td>\n",
              "    </tr>\n",
              "    <tr>\n",
              "      <th>min</th>\n",
              "      <td>18.000000</td>\n",
              "      <td>15.960000</td>\n",
              "      <td>0.000000</td>\n",
              "      <td>1920.136268</td>\n",
              "      <td>1.000000</td>\n",
              "      <td>6.954300e+05</td>\n",
              "      <td>2.945253e+04</td>\n",
              "      <td>0.000000</td>\n",
              "      <td>2.747072e+06</td>\n",
              "      <td>1121.873900</td>\n",
              "    </tr>\n",
              "    <tr>\n",
              "      <th>25%</th>\n",
              "      <td>27.000000</td>\n",
              "      <td>26.315000</td>\n",
              "      <td>0.000000</td>\n",
              "      <td>20947.645198</td>\n",
              "      <td>9.000000</td>\n",
              "      <td>8.474898e+05</td>\n",
              "      <td>4.084941e+06</td>\n",
              "      <td>1.000000</td>\n",
              "      <td>7.755085e+07</td>\n",
              "      <td>4740.287150</td>\n",
              "    </tr>\n",
              "    <tr>\n",
              "      <th>50%</th>\n",
              "      <td>39.310008</td>\n",
              "      <td>30.400000</td>\n",
              "      <td>1.000000</td>\n",
              "      <td>33611.286065</td>\n",
              "      <td>15.000000</td>\n",
              "      <td>9.140155e+05</td>\n",
              "      <td>7.500985e+06</td>\n",
              "      <td>1.000000</td>\n",
              "      <td>1.422756e+08</td>\n",
              "      <td>9382.033000</td>\n",
              "    </tr>\n",
              "    <tr>\n",
              "      <th>75%</th>\n",
              "      <td>51.000000</td>\n",
              "      <td>34.656250</td>\n",
              "      <td>2.000000</td>\n",
              "      <td>44978.873188</td>\n",
              "      <td>20.000000</td>\n",
              "      <td>9.715100e+05</td>\n",
              "      <td>1.090187e+07</td>\n",
              "      <td>1.000000</td>\n",
              "      <td>3.298713e+08</td>\n",
              "      <td>16639.912515</td>\n",
              "    </tr>\n",
              "    <tr>\n",
              "      <th>max</th>\n",
              "      <td>64.000000</td>\n",
              "      <td>53.130000</td>\n",
              "      <td>5.000000</td>\n",
              "      <td>77277.988480</td>\n",
              "      <td>40.000000</td>\n",
              "      <td>1.107872e+06</td>\n",
              "      <td>2.616317e+08</td>\n",
              "      <td>3.000000</td>\n",
              "      <td>4.117197e+09</td>\n",
              "      <td>63770.428010</td>\n",
              "    </tr>\n",
              "  </tbody>\n",
              "</table>\n",
              "</div>"
            ],
            "text/plain": [
              "               age          bmi     children  Claim_Amount  \\\n",
              "count  1338.000000  1338.000000  1338.000000   1338.000000   \n",
              "mean     39.310008    30.665112     1.090773  33361.327180   \n",
              "std      13.987500     6.094840     1.199606  15535.307255   \n",
              "min      18.000000    15.960000     0.000000   1920.136268   \n",
              "25%      27.000000    26.315000     0.000000  20947.645198   \n",
              "50%      39.310008    30.400000     1.000000  33611.286065   \n",
              "75%      51.000000    34.656250     2.000000  44978.873188   \n",
              "max      64.000000    53.130000     5.000000  77277.988480   \n",
              "\n",
              "       past_consultations  num_of_steps  Hospital_expenditure  \\\n",
              "count         1338.000000  1.338000e+03          1.338000e+03   \n",
              "mean            15.216216  9.100047e+05          1.584179e+07   \n",
              "std              7.450948  9.178297e+04          2.665309e+07   \n",
              "min              1.000000  6.954300e+05          2.945253e+04   \n",
              "25%              9.000000  8.474898e+05          4.084941e+06   \n",
              "50%             15.000000  9.140155e+05          7.500985e+06   \n",
              "75%             20.000000  9.715100e+05          1.090187e+07   \n",
              "max             40.000000  1.107872e+06          2.616317e+08   \n",
              "\n",
              "       NUmber_of_past_hospitalizations  Anual_Salary       charges  \n",
              "count                      1338.000000  1.338000e+03   1338.000000  \n",
              "mean                          1.060629  3.696849e+08  13270.422265  \n",
              "std                           0.533184  5.656109e+08  12110.011237  \n",
              "min                           0.000000  2.747072e+06   1121.873900  \n",
              "25%                           1.000000  7.755085e+07   4740.287150  \n",
              "50%                           1.000000  1.422756e+08   9382.033000  \n",
              "75%                           1.000000  3.298713e+08  16639.912515  \n",
              "max                           3.000000  4.117197e+09  63770.428010  "
            ]
          },
          "execution_count": 36,
          "metadata": {},
          "output_type": "execute_result"
        }
      ],
      "source": [
        "insurance.describe()"
      ]
    },
    {
      "cell_type": "code",
      "execution_count": null,
      "id": "63898c19",
      "metadata": {
        "id": "63898c19"
      },
      "outputs": [],
      "source": [
        "#treating outliers"
      ]
    },
    {
      "cell_type": "code",
      "execution_count": null,
      "id": "88e7ab35",
      "metadata": {
        "id": "88e7ab35"
      },
      "outputs": [],
      "source": []
    },
    {
      "cell_type": "code",
      "execution_count": null,
      "id": "4dea2210",
      "metadata": {
        "id": "4dea2210"
      },
      "outputs": [],
      "source": [
        "Q1 = insurance.bmi.quantile(0.25)\n",
        "Q3 = insurance.bmi.quantile(0.75)"
      ]
    },
    {
      "cell_type": "code",
      "execution_count": null,
      "id": "5627bc40",
      "metadata": {
        "id": "5627bc40",
        "outputId": "6242a9f7-9270-4496-8d41-194c1413ddd8"
      },
      "outputs": [
        {
          "data": {
            "text/plain": [
              "26.315"
            ]
          },
          "execution_count": 39,
          "metadata": {},
          "output_type": "execute_result"
        }
      ],
      "source": [
        "Q1"
      ]
    },
    {
      "cell_type": "code",
      "execution_count": null,
      "id": "81df2c33",
      "metadata": {
        "id": "81df2c33",
        "outputId": "5cbb40dd-317d-436b-cace-59f2b739158d"
      },
      "outputs": [
        {
          "data": {
            "text/plain": [
              "34.65625"
            ]
          },
          "execution_count": 40,
          "metadata": {},
          "output_type": "execute_result"
        }
      ],
      "source": [
        "Q3"
      ]
    },
    {
      "cell_type": "code",
      "execution_count": null,
      "id": "0a8197cc",
      "metadata": {
        "id": "0a8197cc",
        "outputId": "00ec3596-5983-49ac-c4db-6dd07da7b4c5"
      },
      "outputs": [
        {
          "data": {
            "text/plain": [
              "8.341249999999999"
            ]
          },
          "execution_count": 41,
          "metadata": {},
          "output_type": "execute_result"
        }
      ],
      "source": [
        "IQR = Q3 - Q1\n",
        "IQR"
      ]
    },
    {
      "cell_type": "code",
      "execution_count": null,
      "id": "a68185ef",
      "metadata": {
        "id": "a68185ef",
        "outputId": "ea3233b4-4aa8-4a06-b62d-412e2ef32505"
      },
      "outputs": [
        {
          "data": {
            "text/plain": [
              "13.803125000000003"
            ]
          },
          "execution_count": 42,
          "metadata": {},
          "output_type": "execute_result"
        }
      ],
      "source": [
        "Q1 - 1.5*IQR # To know the lower limit"
      ]
    },
    {
      "cell_type": "code",
      "execution_count": null,
      "id": "ce8609d9",
      "metadata": {
        "id": "ce8609d9",
        "outputId": "0ec58eba-26d1-4e2c-8377-7be1e267b353"
      },
      "outputs": [
        {
          "data": {
            "text/plain": [
              "47.168124999999996"
            ]
          },
          "execution_count": 43,
          "metadata": {},
          "output_type": "execute_result"
        }
      ],
      "source": [
        "Q3 + 1.5*IQR # To know the upper limit"
      ]
    },
    {
      "cell_type": "code",
      "execution_count": null,
      "id": "c9e05c0d",
      "metadata": {
        "id": "c9e05c0d"
      },
      "outputs": [],
      "source": []
    },
    {
      "cell_type": "code",
      "execution_count": null,
      "id": "196a9864",
      "metadata": {
        "id": "196a9864"
      },
      "outputs": [],
      "source": [
        "#insurance[(insurance['sex']=='male') & (insurance['smoker']=='no')]"
      ]
    },
    {
      "cell_type": "code",
      "execution_count": null,
      "id": "d829ef22",
      "metadata": {
        "id": "d829ef22"
      },
      "outputs": [],
      "source": [
        "\n",
        "Q1 = insurance.bmi.quantile(0.25)\n",
        "Q3 = insurance.bmi.quantile(0.75)\n",
        "IQR = Q3 - Q1\n",
        "insurance = insurance[(insurance.bmi >= Q1 - 1.5*IQR) & (insurance.bmi <= Q3 + 1.5*IQR)]\n",
        "\n",
        "Q1 = insurance.past_consultations.quantile(0.25)\n",
        "Q3 = insurance.past_consultations.quantile(0.75)\n",
        "IQR = Q3 - Q1\n",
        "insurance = insurance[(insurance.past_consultations >= Q1 - 1.5*IQR) & (insurance.past_consultations <= Q3 + 1.5*IQR)]\n",
        "\n",
        "Q1 = insurance.Hospital_expenditure.quantile(0.25)\n",
        "Q3 = insurance.Hospital_expenditure.quantile(0.75)\n",
        "IQR = Q3 - Q1\n",
        "insurance = insurance[(insurance.Hospital_expenditure >= Q1 - 1.5*IQR) & (insurance.Hospital_expenditure <= Q3 + 1.5*IQR)]\n",
        "\n",
        "Q1 = insurance.Anual_Salary.quantile(0.25)\n",
        "Q3 = insurance.Anual_Salary.quantile(0.75)\n",
        "IQR = Q3 - Q1\n",
        "insurance = insurance[(insurance.Anual_Salary >= Q1 - 1.5*IQR) & (insurance.Anual_Salary <= Q3 + 1.5*IQR)]\n"
      ]
    },
    {
      "cell_type": "code",
      "execution_count": null,
      "id": "fcfcdbdf",
      "metadata": {
        "id": "fcfcdbdf"
      },
      "outputs": [],
      "source": [
        "#col.pop(-1)"
      ]
    },
    {
      "cell_type": "code",
      "execution_count": null,
      "id": "1e672427",
      "metadata": {
        "id": "1e672427"
      },
      "outputs": [],
      "source": [
        "# for col_name in col:\n",
        "#     if(insurance[col_name].dtypes=='int64' or insurance[col_name].dtypes=='float64'):\n",
        "#         Q1 = insurance[col_name].quantile(0.25)\n",
        "#         Q3 = insurance[col_name].quantile(0.75)\n",
        "#         IQR = Q3-Q1\n",
        "#         insurance = insurance[(insurance.col_name>=Q1-1.5*IQR)&(insurance.col_name<=Q3+1.5*IQR)]"
      ]
    },
    {
      "cell_type": "code",
      "execution_count": null,
      "id": "e2e60944",
      "metadata": {
        "id": "e2e60944",
        "outputId": "d6f3849d-32a4-4594-dd63-080749a149f0"
      },
      "outputs": [
        {
          "data": {
            "text/plain": [
              "(1030, 13)"
            ]
          },
          "execution_count": 48,
          "metadata": {},
          "output_type": "execute_result"
        }
      ],
      "source": [
        "insurance.shape"
      ]
    },
    {
      "cell_type": "code",
      "execution_count": null,
      "id": "30ff4ff9",
      "metadata": {
        "id": "30ff4ff9",
        "outputId": "2ffa7b19-2544-4dca-b992-dd5b1ca4b740",
        "scrolled": false
      },
      "outputs": [
        {
          "data": {
            "image/png": "[encoded data removed]",
            "text/plain": [
              "<Figure size 640x480 with 1 Axes>"
            ]
          },
          "metadata": {},
          "output_type": "display_data"
        },
        {
          "data": {
            "image/png": "[encoded data removed]",
            "text/plain": [
              "<Figure size 640x480 with 1 Axes>"
            ]
          },
          "metadata": {},
          "output_type": "display_data"
        },
        {
          "data": {
            "image/png": "[encoded data removed]",
            "text/plain": [
              "<Figure size 640x480 with 1 Axes>"
            ]
          },
          "metadata": {},
          "output_type": "display_data"
        },
        {
          "data": {
            "image/png": "[encoded data removed]",
            "text/plain": [
              "<Figure size 640x480 with 1 Axes>"
            ]
          },
          "metadata": {},
          "output_type": "display_data"
        },
        {
          "data": {
            "image/png": "[encoded data removed]",
            "text/plain": [
              "<Figure size 640x480 with 1 Axes>"
            ]
          },
          "metadata": {},
          "output_type": "display_data"
        },
        {
          "data": {
            "image/png": "[encoded data removed]",
            "text/plain": [
              "<Figure size 640x480 with 1 Axes>"
            ]
          },
          "metadata": {},
          "output_type": "display_data"
        },
        {
          "data": {
            "image/png": "[encoded data removed]",
            "text/plain": [
              "<Figure size 640x480 with 1 Axes>"
            ]
          },
          "metadata": {},
          "output_type": "display_data"
        },
        {
          "data": {
            "image/png": "[encoded data removed]",
            "text/plain": [
              "<Figure size 640x480 with 1 Axes>"
            ]
          },
          "metadata": {},
          "output_type": "display_data"
        },
        {
          "data": {
            "image/png": "[encoded data removed]",
            "text/plain": [
              "<Figure size 640x480 with 1 Axes>"
            ]
          },
          "metadata": {},
          "output_type": "display_data"
        },
        {
          "data": {
            "image/png": "[encoded data removed]",
            "text/plain": [
              "<Figure size 640x480 with 1 Axes>"
            ]
          },
          "metadata": {},
          "output_type": "display_data"
        }
      ],
      "source": [
        "for col_name in col:\n",
        "    if(insurance[col_name].dtypes=='int64' or insurance[col_name].dtypes=='float64'):\n",
        "        plt.boxplot(insurance[col_name])\n",
        "        plt.xlabel(col_name)\n",
        "        plt.ylabel('count')\n",
        "        plt.show()"
      ]
    },
    {
      "cell_type": "code",
      "execution_count": null,
      "id": "9ff5a161",
      "metadata": {
        "id": "9ff5a161"
      },
      "outputs": [],
      "source": [
        "# Feature selection --> To see which columns to pass to the model and which columns to drop"
      ]
    },
    {
      "cell_type": "code",
      "execution_count": null,
      "id": "6d60c950",
      "metadata": {
        "id": "6d60c950",
        "outputId": "74aef01a-fe17-4620-97c8-3ddf00a1783c"
      },
      "outputs": [
        {
          "name": "stderr",
          "output_type": "stream",
          "text": [
            "C:\\Users\\amitk\\AppData\\Local\\Temp\\ipykernel_21388\\4092763237.py:1: FutureWarning: The default value of numeric_only in DataFrame.corr is deprecated. In a future version, it will default to False. Select only valid columns or specify the value of numeric_only to silence this warning.\n",
            "  insurance.corr() # Relationship between two variables\n"
          ]
        },
        {
          "data": {
            "text/html": [
              "<div>\n",
              "<style scoped>\n",
              "    .dataframe tbody tr th:only-of-type {\n",
              "        vertical-align: middle;\n",
              "    }\n",
              "\n",
              "    .dataframe tbody tr th {\n",
              "        vertical-align: top;\n",
              "    }\n",
              "\n",
              "    .dataframe thead th {\n",
              "        text-align: right;\n",
              "    }\n",
              "</style>\n",
              "<table border=\"1\" class=\"dataframe\">\n",
              "  <thead>\n",
              "    <tr style=\"text-align: right;\">\n",
              "      <th></th>\n",
              "      <th>age</th>\n",
              "      <th>bmi</th>\n",
              "      <th>children</th>\n",
              "      <th>Claim_Amount</th>\n",
              "      <th>past_consultations</th>\n",
              "      <th>num_of_steps</th>\n",
              "      <th>Hospital_expenditure</th>\n",
              "      <th>NUmber_of_past_hospitalizations</th>\n",
              "      <th>Anual_Salary</th>\n",
              "      <th>charges</th>\n",
              "    </tr>\n",
              "  </thead>\n",
              "  <tbody>\n",
              "    <tr>\n",
              "      <th>age</th>\n",
              "      <td>1.000000</td>\n",
              "      <td>0.155957</td>\n",
              "      <td>0.045371</td>\n",
              "      <td>0.117750</td>\n",
              "      <td>0.172063</td>\n",
              "      <td>0.749468</td>\n",
              "      <td>0.160555</td>\n",
              "      <td>0.519538</td>\n",
              "      <td>0.490802</td>\n",
              "      <td>0.676071</td>\n",
              "    </tr>\n",
              "    <tr>\n",
              "      <th>bmi</th>\n",
              "      <td>0.155957</td>\n",
              "      <td>1.000000</td>\n",
              "      <td>0.006477</td>\n",
              "      <td>0.008343</td>\n",
              "      <td>0.023543</td>\n",
              "      <td>0.040324</td>\n",
              "      <td>0.013992</td>\n",
              "      <td>0.016121</td>\n",
              "      <td>0.004105</td>\n",
              "      <td>0.010248</td>\n",
              "    </tr>\n",
              "    <tr>\n",
              "      <th>children</th>\n",
              "      <td>0.045371</td>\n",
              "      <td>0.006477</td>\n",
              "      <td>1.000000</td>\n",
              "      <td>0.041716</td>\n",
              "      <td>0.045472</td>\n",
              "      <td>0.228830</td>\n",
              "      <td>-0.007494</td>\n",
              "      <td>0.316622</td>\n",
              "      <td>0.064840</td>\n",
              "      <td>0.138470</td>\n",
              "    </tr>\n",
              "    <tr>\n",
              "      <th>Claim_Amount</th>\n",
              "      <td>0.117750</td>\n",
              "      <td>0.008343</td>\n",
              "      <td>0.041716</td>\n",
              "      <td>1.000000</td>\n",
              "      <td>0.071569</td>\n",
              "      <td>0.185434</td>\n",
              "      <td>0.054111</td>\n",
              "      <td>0.109748</td>\n",
              "      <td>0.157826</td>\n",
              "      <td>0.192601</td>\n",
              "    </tr>\n",
              "    <tr>\n",
              "      <th>past_consultations</th>\n",
              "      <td>0.172063</td>\n",
              "      <td>0.023543</td>\n",
              "      <td>0.045472</td>\n",
              "      <td>0.071569</td>\n",
              "      <td>1.000000</td>\n",
              "      <td>0.259401</td>\n",
              "      <td>0.088466</td>\n",
              "      <td>0.135498</td>\n",
              "      <td>0.265710</td>\n",
              "      <td>0.278131</td>\n",
              "    </tr>\n",
              "    <tr>\n",
              "      <th>num_of_steps</th>\n",
              "      <td>0.749468</td>\n",
              "      <td>0.040324</td>\n",
              "      <td>0.228830</td>\n",
              "      <td>0.185434</td>\n",
              "      <td>0.259401</td>\n",
              "      <td>1.000000</td>\n",
              "      <td>0.299554</td>\n",
              "      <td>0.714983</td>\n",
              "      <td>0.767247</td>\n",
              "      <td>0.936946</td>\n",
              "    </tr>\n",
              "    <tr>\n",
              "      <th>Hospital_expenditure</th>\n",
              "      <td>0.160555</td>\n",
              "      <td>0.013992</td>\n",
              "      <td>-0.007494</td>\n",
              "      <td>0.054111</td>\n",
              "      <td>0.088466</td>\n",
              "      <td>0.299554</td>\n",
              "      <td>1.000000</td>\n",
              "      <td>0.129334</td>\n",
              "      <td>0.366809</td>\n",
              "      <td>0.358378</td>\n",
              "    </tr>\n",
              "    <tr>\n",
              "      <th>NUmber_of_past_hospitalizations</th>\n",
              "      <td>0.519538</td>\n",
              "      <td>0.016121</td>\n",
              "      <td>0.316622</td>\n",
              "      <td>0.109748</td>\n",
              "      <td>0.135498</td>\n",
              "      <td>0.714983</td>\n",
              "      <td>0.129334</td>\n",
              "      <td>1.000000</td>\n",
              "      <td>0.359422</td>\n",
              "      <td>0.538116</td>\n",
              "    </tr>\n",
              "    <tr>\n",
              "      <th>Anual_Salary</th>\n",
              "      <td>0.490802</td>\n",
              "      <td>0.004105</td>\n",
              "      <td>0.064840</td>\n",
              "      <td>0.157826</td>\n",
              "      <td>0.265710</td>\n",
              "      <td>0.767247</td>\n",
              "      <td>0.366809</td>\n",
              "      <td>0.359422</td>\n",
              "      <td>1.000000</td>\n",
              "      <td>0.892308</td>\n",
              "    </tr>\n",
              "    <tr>\n",
              "      <th>charges</th>\n",
              "      <td>0.676071</td>\n",
              "      <td>0.010248</td>\n",
              "      <td>0.138470</td>\n",
              "      <td>0.192601</td>\n",
              "      <td>0.278131</td>\n",
              "      <td>0.936946</td>\n",
              "      <td>0.358378</td>\n",
              "      <td>0.538116</td>\n",
              "      <td>0.892308</td>\n",
              "      <td>1.000000</td>\n",
              "    </tr>\n",
              "  </tbody>\n",
              "</table>\n",
              "</div>"
            ],
            "text/plain": [
              "                                      age       bmi  children  Claim_Amount  \\\n",
              "age                              1.000000  0.155957  0.045371      0.117750   \n",
              "bmi                              0.155957  1.000000  0.006477      0.008343   \n",
              "children                         0.045371  0.006477  1.000000      0.041716   \n",
              "Claim_Amount                     0.117750  0.008343  0.041716      1.000000   \n",
              "past_consultations               0.172063  0.023543  0.045472      0.071569   \n",
              "num_of_steps                     0.749468  0.040324  0.228830      0.185434   \n",
              "Hospital_expenditure             0.160555  0.013992 -0.007494      0.054111   \n",
              "NUmber_of_past_hospitalizations  0.519538  0.016121  0.316622      0.109748   \n",
              "Anual_Salary                     0.490802  0.004105  0.064840      0.157826   \n",
              "charges                          0.676071  0.010248  0.138470      0.192601   \n",
              "\n",
              "                                 past_consultations  num_of_steps  \\\n",
              "age                                        0.172063      0.749468   \n",
              "bmi                                        0.023543      0.040324   \n",
              "children                                   0.045472      0.228830   \n",
              "Claim_Amount                               0.071569      0.185434   \n",
              "past_consultations                         1.000000      0.259401   \n",
              "num_of_steps                               0.259401      1.000000   \n",
              "Hospital_expenditure                       0.088466      0.299554   \n",
              "NUmber_of_past_hospitalizations            0.135498      0.714983   \n",
              "Anual_Salary                               0.265710      0.767247   \n",
              "charges                                    0.278131      0.936946   \n",
              "\n",
              "                                 Hospital_expenditure  \\\n",
              "age                                          0.160555   \n",
              "bmi                                          0.013992   \n",
              "children                                    -0.007494   \n",
              "Claim_Amount                                 0.054111   \n",
              "past_consultations                           0.088466   \n",
              "num_of_steps                                 0.299554   \n",
              "Hospital_expenditure                         1.000000   \n",
              "NUmber_of_past_hospitalizations              0.129334   \n",
              "Anual_Salary                                 0.366809   \n",
              "charges                                      0.358378   \n",
              "\n",
              "                                 NUmber_of_past_hospitalizations  \\\n",
              "age                                                     0.519538   \n",
              "bmi                                                     0.016121   \n",
              "children                                                0.316622   \n",
              "Claim_Amount                                            0.109748   \n",
              "past_consultations                                      0.135498   \n",
              "num_of_steps                                            0.714983   \n",
              "Hospital_expenditure                                    0.129334   \n",
              "NUmber_of_past_hospitalizations                         1.000000   \n",
              "Anual_Salary                                            0.359422   \n",
              "charges                                                 0.538116   \n",
              "\n",
              "                                 Anual_Salary   charges  \n",
              "age                                  0.490802  0.676071  \n",
              "bmi                                  0.004105  0.010248  \n",
              "children                             0.064840  0.138470  \n",
              "Claim_Amount                         0.157826  0.192601  \n",
              "past_consultations                   0.265710  0.278131  \n",
              "num_of_steps                         0.767247  0.936946  \n",
              "Hospital_expenditure                 0.366809  0.358378  \n",
              "NUmber_of_past_hospitalizations      0.359422  0.538116  \n",
              "Anual_Salary                         1.000000  0.892308  \n",
              "charges                              0.892308  1.000000  "
            ]
          },
          "execution_count": 52,
          "metadata": {},
          "output_type": "execute_result"
        }
      ],
      "source": [
        "insurance.corr() # Relationship between two variables\n",
        "# Multicollinearity --> Correlation of one variable with all the other variables at once"
      ]
    },
    {
      "cell_type": "code",
      "execution_count": null,
      "id": "878eea8c",
      "metadata": {
        "id": "878eea8c"
      },
      "outputs": [],
      "source": [
        "# Independent variable\n",
        "# Dependent variable"
      ]
    },
    {
      "cell_type": "code",
      "execution_count": null,
      "id": "1ZSUBAQUwvVl",
      "metadata": {
        "id": "1ZSUBAQUwvVl",
        "outputId": "c5da0b87-e0a8-4106-b5c4-82e32d610de2"
      },
      "outputs": [
        {
          "data": {
            "text/plain": [
              "(1030, 13)"
            ]
          },
          "execution_count": 54,
          "metadata": {},
          "output_type": "execute_result"
        }
      ],
      "source": [
        "insurance.shape"
      ]
    },
    {
      "cell_type": "code",
      "execution_count": null,
      "id": "d8485224",
      "metadata": {
        "id": "d8485224"
      },
      "outputs": [],
      "source": [
        "#age, date of birth, 10th_year, 12th_year,--- anual expediture of the customer"
      ]
    },
    {
      "cell_type": "code",
      "execution_count": null,
      "id": "c2add350",
      "metadata": {
        "id": "c2add350"
      },
      "outputs": [],
      "source": [
        "# VIF --> Variance Inflation Factor\n",
        "# VIF = 1 --> Variables are not correlated\n",
        "# VIF (1-6) --> Variables are moderately correlated --> Acceptable\n",
        "# VIF >6 --> vARIABLES ARE HIGHLY CORRELATED (Drop those vcolumns)"
      ]
    },
    {
      "cell_type": "code",
      "execution_count": null,
      "id": "b1f601d8",
      "metadata": {
        "id": "b1f601d8"
      },
      "outputs": [],
      "source": [
        "from sklearn.linear_model import LinearRegression"
      ]
    },
    {
      "cell_type": "code",
      "execution_count": null,
      "id": "8b93388a",
      "metadata": {
        "id": "8b93388a"
      },
      "outputs": [],
      "source": [
        "from sklearn.model_selection import train_test_split"
      ]
    },
    {
      "cell_type": "code",
      "execution_count": null,
      "id": "24e20a03",
      "metadata": {
        "id": "24e20a03"
      },
      "outputs": [],
      "source": [
        "#corelation\n",
        "#age, gender,----\n",
        "#charges"
      ]
    },
    {
      "cell_type": "code",
      "execution_count": null,
      "id": "287bd6d8",
      "metadata": {
        "id": "287bd6d8"
      },
      "outputs": [],
      "source": [
        "#multi-colinearirity== 5 or 6\n",
        "#age, gender, dob, ----\n",
        "#charges\n",
        "# Independent"
      ]
    },
    {
      "cell_type": "code",
      "execution_count": null,
      "id": "2869efe4",
      "metadata": {
        "id": "2869efe4",
        "outputId": "4aab8dfe-f9c7-4f32-e31c-2644f4ca0fe3"
      },
      "outputs": [
        {
          "data": {
            "text/plain": [
              "Index(['age', 'sex', 'bmi', 'children', 'smoker', 'Claim_Amount',\n",
              "       'past_consultations', 'num_of_steps', 'Hospital_expenditure',\n",
              "       'NUmber_of_past_hospitalizations', 'Anual_Salary', 'region', 'charges'],\n",
              "      dtype='object')"
            ]
          },
          "execution_count": 61,
          "metadata": {},
          "output_type": "execute_result"
        }
      ],
      "source": [
        "insurance.columns"
      ]
    },
    {
      "cell_type": "markdown",
      "source": [
        "##Data Preprocessing"
      ],
      "metadata": {
        "id": "J-kxwbE5mXWc"
      },
      "id": "J-kxwbE5mXWc"
    },
    {
      "cell_type": "code",
      "execution_count": null,
      "id": "b8078c49",
      "metadata": {
        "id": "b8078c49"
      },
      "outputs": [],
      "source": [
        "from statsmodels.stats.outliers_influence import variance_inflation_factor\n",
        "col_list = []\n",
        "for col in insurance.columns:\n",
        "    if ((insurance[col].dtype != 'object') & (col != 'charges') ):#only num cols except for the charges column\n",
        "        col_list.append(col)"
      ]
    },
    {
      "cell_type": "code",
      "execution_count": null,
      "id": "912e2bd3",
      "metadata": {
        "id": "912e2bd3",
        "outputId": "c16fdc50-39d7-4b2f-b014-b039dc13865b"
      },
      "outputs": [
        {
          "data": {
            "text/plain": [
              "['age',\n",
              " 'bmi',\n",
              " 'children',\n",
              " 'Claim_Amount',\n",
              " 'past_consultations',\n",
              " 'num_of_steps',\n",
              " 'Hospital_expenditure',\n",
              " 'NUmber_of_past_hospitalizations',\n",
              " 'Anual_Salary']"
            ]
          },
          "execution_count": 63,
          "metadata": {},
          "output_type": "execute_result"
        }
      ],
      "source": [
        "col_list"
      ]
    },
    {
      "cell_type": "code",
      "execution_count": null,
      "id": "e2f3c8c9",
      "metadata": {
        "id": "e2f3c8c9",
        "outputId": "a7ae27c0-f947-4e85-e569-a80da8a36a3f"
      },
      "outputs": [
        {
          "data": {
            "text/html": [
              "<div>\n",
              "<style scoped>\n",
              "    .dataframe tbody tr th:only-of-type {\n",
              "        vertical-align: middle;\n",
              "    }\n",
              "\n",
              "    .dataframe tbody tr th {\n",
              "        vertical-align: top;\n",
              "    }\n",
              "\n",
              "    .dataframe thead th {\n",
              "        text-align: right;\n",
              "    }\n",
              "</style>\n",
              "<table border=\"1\" class=\"dataframe\">\n",
              "  <thead>\n",
              "    <tr style=\"text-align: right;\">\n",
              "      <th></th>\n",
              "      <th>age</th>\n",
              "      <th>bmi</th>\n",
              "      <th>children</th>\n",
              "      <th>Claim_Amount</th>\n",
              "      <th>past_consultations</th>\n",
              "      <th>num_of_steps</th>\n",
              "      <th>Hospital_expenditure</th>\n",
              "      <th>NUmber_of_past_hospitalizations</th>\n",
              "      <th>Anual_Salary</th>\n",
              "    </tr>\n",
              "  </thead>\n",
              "  <tbody>\n",
              "    <tr>\n",
              "      <th>0</th>\n",
              "      <td>18.0</td>\n",
              "      <td>23.210</td>\n",
              "      <td>0.0</td>\n",
              "      <td>29087.54313</td>\n",
              "      <td>17.0</td>\n",
              "      <td>715428.0</td>\n",
              "      <td>4.720921e+06</td>\n",
              "      <td>0.0</td>\n",
              "      <td>5.578497e+07</td>\n",
              "    </tr>\n",
              "    <tr>\n",
              "      <th>1</th>\n",
              "      <td>18.0</td>\n",
              "      <td>30.140</td>\n",
              "      <td>0.0</td>\n",
              "      <td>39053.67437</td>\n",
              "      <td>7.0</td>\n",
              "      <td>699157.0</td>\n",
              "      <td>4.329832e+06</td>\n",
              "      <td>0.0</td>\n",
              "      <td>1.370089e+07</td>\n",
              "    </tr>\n",
              "    <tr>\n",
              "      <th>2</th>\n",
              "      <td>18.0</td>\n",
              "      <td>33.330</td>\n",
              "      <td>0.0</td>\n",
              "      <td>39023.62759</td>\n",
              "      <td>19.0</td>\n",
              "      <td>702341.0</td>\n",
              "      <td>6.884861e+06</td>\n",
              "      <td>0.0</td>\n",
              "      <td>7.352311e+07</td>\n",
              "    </tr>\n",
              "    <tr>\n",
              "      <th>3</th>\n",
              "      <td>18.0</td>\n",
              "      <td>33.660</td>\n",
              "      <td>0.0</td>\n",
              "      <td>28185.39332</td>\n",
              "      <td>11.0</td>\n",
              "      <td>700250.0</td>\n",
              "      <td>4.274774e+06</td>\n",
              "      <td>0.0</td>\n",
              "      <td>7.581968e+07</td>\n",
              "    </tr>\n",
              "    <tr>\n",
              "      <th>4</th>\n",
              "      <td>18.0</td>\n",
              "      <td>34.100</td>\n",
              "      <td>0.0</td>\n",
              "      <td>14697.85941</td>\n",
              "      <td>16.0</td>\n",
              "      <td>711584.0</td>\n",
              "      <td>3.787294e+06</td>\n",
              "      <td>0.0</td>\n",
              "      <td>2.301232e+07</td>\n",
              "    </tr>\n",
              "    <tr>\n",
              "      <th>...</th>\n",
              "      <td>...</td>\n",
              "      <td>...</td>\n",
              "      <td>...</td>\n",
              "      <td>...</td>\n",
              "      <td>...</td>\n",
              "      <td>...</td>\n",
              "      <td>...</td>\n",
              "      <td>...</td>\n",
              "      <td>...</td>\n",
              "    </tr>\n",
              "    <tr>\n",
              "      <th>1046</th>\n",
              "      <td>29.0</td>\n",
              "      <td>27.940</td>\n",
              "      <td>1.0</td>\n",
              "      <td>51168.25474</td>\n",
              "      <td>23.0</td>\n",
              "      <td>993751.0</td>\n",
              "      <td>1.665982e+07</td>\n",
              "      <td>1.0</td>\n",
              "      <td>3.712188e+08</td>\n",
              "    </tr>\n",
              "    <tr>\n",
              "      <th>1048</th>\n",
              "      <td>31.0</td>\n",
              "      <td>25.900</td>\n",
              "      <td>3.0</td>\n",
              "      <td>46619.40230</td>\n",
              "      <td>27.0</td>\n",
              "      <td>989387.0</td>\n",
              "      <td>1.361938e+07</td>\n",
              "      <td>1.0</td>\n",
              "      <td>3.812895e+08</td>\n",
              "    </tr>\n",
              "    <tr>\n",
              "      <th>1050</th>\n",
              "      <td>31.0</td>\n",
              "      <td>29.810</td>\n",
              "      <td>0.0</td>\n",
              "      <td>24382.58056</td>\n",
              "      <td>21.0</td>\n",
              "      <td>973924.0</td>\n",
              "      <td>1.028991e+07</td>\n",
              "      <td>1.0</td>\n",
              "      <td>3.745310e+08</td>\n",
              "    </tr>\n",
              "    <tr>\n",
              "      <th>1062</th>\n",
              "      <td>43.0</td>\n",
              "      <td>20.045</td>\n",
              "      <td>2.0</td>\n",
              "      <td>21596.43846</td>\n",
              "      <td>10.0</td>\n",
              "      <td>994419.0</td>\n",
              "      <td>1.083030e+07</td>\n",
              "      <td>1.0</td>\n",
              "      <td>3.696849e+08</td>\n",
              "    </tr>\n",
              "    <tr>\n",
              "      <th>1069</th>\n",
              "      <td>35.0</td>\n",
              "      <td>28.025</td>\n",
              "      <td>0.0</td>\n",
              "      <td>17200.14586</td>\n",
              "      <td>15.0</td>\n",
              "      <td>993979.0</td>\n",
              "      <td>1.247744e+07</td>\n",
              "      <td>1.0</td>\n",
              "      <td>3.696849e+08</td>\n",
              "    </tr>\n",
              "  </tbody>\n",
              "</table>\n",
              "<p>1030 rows × 9 columns</p>\n",
              "</div>"
            ],
            "text/plain": [
              "       age     bmi  children  Claim_Amount  past_consultations  num_of_steps  \\\n",
              "0     18.0  23.210       0.0   29087.54313                17.0      715428.0   \n",
              "1     18.0  30.140       0.0   39053.67437                 7.0      699157.0   \n",
              "2     18.0  33.330       0.0   39023.62759                19.0      702341.0   \n",
              "3     18.0  33.660       0.0   28185.39332                11.0      700250.0   \n",
              "4     18.0  34.100       0.0   14697.85941                16.0      711584.0   \n",
              "...    ...     ...       ...           ...                 ...           ...   \n",
              "1046  29.0  27.940       1.0   51168.25474                23.0      993751.0   \n",
              "1048  31.0  25.900       3.0   46619.40230                27.0      989387.0   \n",
              "1050  31.0  29.810       0.0   24382.58056                21.0      973924.0   \n",
              "1062  43.0  20.045       2.0   21596.43846                10.0      994419.0   \n",
              "1069  35.0  28.025       0.0   17200.14586                15.0      993979.0   \n",
              "\n",
              "      Hospital_expenditure  NUmber_of_past_hospitalizations  Anual_Salary  \n",
              "0             4.720921e+06                              0.0  5.578497e+07  \n",
              "1             4.329832e+06                              0.0  1.370089e+07  \n",
              "2             6.884861e+06                              0.0  7.352311e+07  \n",
              "3             4.274774e+06                              0.0  7.581968e+07  \n",
              "4             3.787294e+06                              0.0  2.301232e+07  \n",
              "...                    ...                              ...           ...  \n",
              "1046          1.665982e+07                              1.0  3.712188e+08  \n",
              "1048          1.361938e+07                              1.0  3.812895e+08  \n",
              "1050          1.028991e+07                              1.0  3.745310e+08  \n",
              "1062          1.083030e+07                              1.0  3.696849e+08  \n",
              "1069          1.247744e+07                              1.0  3.696849e+08  \n",
              "\n",
              "[1030 rows x 9 columns]"
            ]
          },
          "execution_count": 65,
          "metadata": {},
          "output_type": "execute_result"
        }
      ],
      "source": [
        "X = insurance[col_list]\n",
        "X"
      ]
    },
    {
      "cell_type": "code",
      "execution_count": null,
      "id": "55a30b20",
      "metadata": {
        "id": "55a30b20",
        "outputId": "8ed8e405-bf03-4f0e-c848-c19ef424abda"
      },
      "outputs": [
        {
          "data": {
            "text/plain": [
              "Index(['age', 'bmi', 'children', 'Claim_Amount', 'past_consultations',\n",
              "       'num_of_steps', 'Hospital_expenditure',\n",
              "       'NUmber_of_past_hospitalizations', 'Anual_Salary'],\n",
              "      dtype='object')"
            ]
          },
          "execution_count": 66,
          "metadata": {},
          "output_type": "execute_result"
        }
      ],
      "source": [
        "X.columns"
      ]
    },
    {
      "cell_type": "code",
      "execution_count": null,
      "id": "aaa80713",
      "metadata": {
        "id": "aaa80713",
        "outputId": "dc3f5272-22b6-435f-887f-da2f7cc4edf4"
      },
      "outputs": [
        {
          "data": {
            "text/plain": [
              "array([[1.80000000e+01, 2.32100000e+01, 0.00000000e+00, ...,\n",
              "        4.72092099e+06, 0.00000000e+00, 5.57849700e+07],\n",
              "       [1.80000000e+01, 3.01400000e+01, 0.00000000e+00, ...,\n",
              "        4.32983168e+06, 0.00000000e+00, 1.37008852e+07],\n",
              "       [1.80000000e+01, 3.33300000e+01, 0.00000000e+00, ...,\n",
              "        6.88486077e+06, 0.00000000e+00, 7.35231073e+07],\n",
              "       ...,\n",
              "       [3.10000000e+01, 2.98100000e+01, 0.00000000e+00, ...,\n",
              "        1.02899068e+07, 1.00000000e+00, 3.74530951e+08],\n",
              "       [4.30000000e+01, 2.00450000e+01, 2.00000000e+00, ...,\n",
              "        1.08303011e+07, 1.00000000e+00, 3.69684860e+08],\n",
              "       [3.50000000e+01, 2.80250000e+01, 0.00000000e+00, ...,\n",
              "        1.24774431e+07, 1.00000000e+00, 3.69684860e+08]])"
            ]
          },
          "execution_count": 67,
          "metadata": {},
          "output_type": "execute_result"
        }
      ],
      "source": [
        "X.values"
      ]
    },
    {
      "cell_type": "code",
      "execution_count": null,
      "id": "558e17ca",
      "metadata": {
        "id": "558e17ca",
        "outputId": "75ce0f81-c3f8-4978-d3f9-aa4ffd5e1aa3"
      },
      "outputs": [
        {
          "name": "stdout",
          "output_type": "stream",
          "text": [
            "0\n",
            "1\n",
            "2\n",
            "3\n",
            "4\n",
            "5\n",
            "6\n",
            "7\n",
            "8\n"
          ]
        }
      ],
      "source": [
        "for i in range(len(X.columns)):\n",
        "    print(i)"
      ]
    },
    {
      "cell_type": "code",
      "execution_count": null,
      "id": "6ec6768b",
      "metadata": {
        "id": "6ec6768b",
        "outputId": "d8001010-cad1-4f32-9700-6be69b21ca5d"
      },
      "outputs": [
        {
          "name": "stdout",
          "output_type": "stream",
          "text": [
            "                           feature        VIF\n",
            "0                              age  15.452095\n",
            "1                              bmi  26.330788\n",
            "2                         children   2.029618\n",
            "3                     Claim_Amount   5.678660\n",
            "4               past_consultations   6.258017\n",
            "5                     num_of_steps  61.574692\n",
            "6             Hospital_expenditure   5.204376\n",
            "7  NUmber_of_past_hospitalizations  12.052060\n",
            "8                     Anual_Salary   5.481823\n"
          ]
        }
      ],
      "source": [
        "from statsmodels.stats.outliers_influence import variance_inflation_factor\n",
        "col_list = []\n",
        "for col in insurance.columns:\n",
        "    if ((insurance[col].dtype != 'object') & (col != 'charges') ):\n",
        "        col_list.append(col)\n",
        "\n",
        "X = insurance[col_list]\n",
        "\n",
        "vif_data = pd.DataFrame()\n",
        "vif_data[\"feature\"] = X.columns\n",
        "vif_data[\"VIF\"] = [variance_inflation_factor(X.values, i) for i in range(len(X.columns))]\n",
        "print(vif_data)"
      ]
    },
    {
      "cell_type": "code",
      "execution_count": null,
      "id": "b47a1312",
      "metadata": {
        "id": "b47a1312",
        "outputId": "c6c2dcee-d134-4faf-a9fd-f3757b5c45e6"
      },
      "outputs": [
        {
          "data": {
            "text/plain": [
              "9"
            ]
          },
          "execution_count": 72,
          "metadata": {},
          "output_type": "execute_result"
        }
      ],
      "source": [
        "len(X.columns)"
      ]
    },
    {
      "cell_type": "code",
      "execution_count": null,
      "id": "8462d5aa",
      "metadata": {
        "id": "8462d5aa"
      },
      "outputs": [],
      "source": []
    },
    {
      "cell_type": "code",
      "execution_count": null,
      "id": "087626a6",
      "metadata": {
        "id": "087626a6"
      },
      "outputs": [],
      "source": [
        "insurance=insurance.drop(['num_of_steps'], axis = 1)"
      ]
    },
    {
      "cell_type": "code",
      "execution_count": null,
      "id": "7ba11e54",
      "metadata": {
        "id": "7ba11e54",
        "outputId": "28658945-0dbf-4e39-9625-0b0fa5bab2f4"
      },
      "outputs": [
        {
          "name": "stdout",
          "output_type": "stream",
          "text": [
            "                           feature        VIF\n",
            "0                              age  14.484893\n",
            "1                              bmi  12.261123\n",
            "2                         children   2.017441\n",
            "3                     Claim_Amount   5.243640\n",
            "4               past_consultations   5.842169\n",
            "5             Hospital_expenditure   4.929952\n",
            "6  NUmber_of_past_hospitalizations  10.687768\n",
            "7                     Anual_Salary   5.380679\n"
          ]
        }
      ],
      "source": [
        "col_list = []\n",
        "for col in insurance.columns:\n",
        "    if ((insurance[col].dtype != 'object') & (col != 'charges') ):\n",
        "        col_list.append(col)\n",
        "\n",
        "X = insurance[col_list]\n",
        "vif_data = pd.DataFrame()\n",
        "vif_data[\"feature\"] = X.columns\n",
        "vif_data[\"VIF\"] = [variance_inflation_factor(X.values, i)\n",
        "                          for i in range(len(X.columns))]\n",
        "print(vif_data)"
      ]
    },
    {
      "cell_type": "code",
      "execution_count": null,
      "id": "c11fb567",
      "metadata": {
        "id": "c11fb567"
      },
      "outputs": [],
      "source": [
        "insurance=insurance.drop(['age'], axis=1)"
      ]
    },
    {
      "cell_type": "code",
      "execution_count": null,
      "id": "c9e5b600",
      "metadata": {
        "id": "c9e5b600",
        "outputId": "19120df9-d7fe-4106-f7f9-ffa1ec1c9683"
      },
      "outputs": [
        {
          "name": "stdout",
          "output_type": "stream",
          "text": [
            "                           feature        VIF\n",
            "0                              bmi  10.323093\n",
            "1                         children   1.978843\n",
            "2                     Claim_Amount   5.228284\n",
            "3               past_consultations   5.821933\n",
            "4             Hospital_expenditure   4.929287\n",
            "5  NUmber_of_past_hospitalizations   8.310570\n",
            "6                     Anual_Salary   4.723495\n"
          ]
        }
      ],
      "source": [
        "col_list = []\n",
        "for col in insurance.columns:\n",
        "    if ((insurance[col].dtype != 'object') & (col != 'charges') ):\n",
        "        col_list.append(col)\n",
        "\n",
        "X = insurance[col_list]\n",
        "vif_data = pd.DataFrame()\n",
        "vif_data[\"feature\"] = X.columns\n",
        "vif_data[\"VIF\"] = [variance_inflation_factor(X.values, i)\n",
        "                          for i in range(len(X.columns))]\n",
        "print(vif_data)"
      ]
    },
    {
      "cell_type": "code",
      "execution_count": null,
      "id": "66c4111d",
      "metadata": {
        "id": "66c4111d"
      },
      "outputs": [],
      "source": [
        "insurance=insurance.drop(['bmi'], axis=1)"
      ]
    },
    {
      "cell_type": "code",
      "execution_count": null,
      "id": "3b35d176",
      "metadata": {
        "id": "3b35d176",
        "outputId": "fa76a71e-5654-461c-f673-61c85f8019ab"
      },
      "outputs": [
        {
          "name": "stdout",
          "output_type": "stream",
          "text": [
            "                           feature       VIF\n",
            "0                         children  1.977037\n",
            "1                     Claim_Amount  4.547332\n",
            "2               past_consultations  5.049165\n",
            "3             Hospital_expenditure  4.492630\n",
            "4  NUmber_of_past_hospitalizations  7.245972\n",
            "5                     Anual_Salary  4.688833\n"
          ]
        }
      ],
      "source": [
        "col_list = []\n",
        "for col in insurance.columns:\n",
        "    if ((insurance[col].dtype != 'object') & (col != 'charges') ):\n",
        "        col_list.append(col)\n",
        "\n",
        "X = insurance[col_list]\n",
        "vif_data = pd.DataFrame()\n",
        "vif_data[\"feature\"] = X.columns\n",
        "vif_data[\"VIF\"] = [variance_inflation_factor(X.values, i)\n",
        "                          for i in range(len(X.columns))]\n",
        "print(vif_data)\n",
        "# Kaggle"
      ]
    },
    {
      "cell_type": "code",
      "execution_count": null,
      "id": "a1e46a2c",
      "metadata": {
        "id": "a1e46a2c"
      },
      "outputs": [],
      "source": [
        "insurance=insurance.drop(['NUmber_of_past_hospitalizations'], axis=1)"
      ]
    },
    {
      "cell_type": "code",
      "execution_count": null,
      "id": "9adca449",
      "metadata": {
        "id": "9adca449",
        "outputId": "bdb2af56-b1db-4dfc-fc36-05da13d64d84"
      },
      "outputs": [
        {
          "name": "stdout",
          "output_type": "stream",
          "text": [
            "                feature       VIF\n",
            "0              children  1.713101\n",
            "1          Claim_Amount  4.152224\n",
            "2    past_consultations  4.670212\n",
            "3  Hospital_expenditure  4.320876\n",
            "4          Anual_Salary  4.279483\n"
          ]
        }
      ],
      "source": [
        "col_list = []\n",
        "for col in insurance.columns:\n",
        "    if ((insurance[col].dtype != 'object') & (col != 'charges') ):\n",
        "        col_list.append(col)\n",
        "\n",
        "X = insurance[col_list]\n",
        "vif_data = pd.DataFrame()\n",
        "vif_data[\"feature\"] = X.columns\n",
        "vif_data[\"VIF\"] = [variance_inflation_factor(X.values, i)\n",
        "                          for i in range(len(X.columns))]\n",
        "print(vif_data)\n",
        "\n",
        "# value<6"
      ]
    },
    {
      "cell_type": "markdown",
      "source": [
        "## Splitting the Data and Model Building"
      ],
      "metadata": {
        "id": "bMsM9z-jminr"
      },
      "id": "bMsM9z-jminr"
    },
    {
      "cell_type": "code",
      "execution_count": null,
      "id": "65e1e027",
      "metadata": {
        "id": "65e1e027"
      },
      "outputs": [],
      "source": [
        "x=insurance.loc[:,['children','Claim_Amount','past_consultations','Hospital_expenditure','Anual_Salary']]\n",
        "y=insurance.iloc[:,-1]"
      ]
    },
    {
      "cell_type": "code",
      "execution_count": null,
      "id": "a149e38d",
      "metadata": {
        "id": "a149e38d"
      },
      "outputs": [],
      "source": [
        "# loc[rows:col]"
      ]
    },
    {
      "cell_type": "code",
      "execution_count": null,
      "id": "TFhMHpRe6vSe",
      "metadata": {
        "id": "TFhMHpRe6vSe",
        "outputId": "a1fd584e-b7e8-48ed-da88-46c2ae16c943"
      },
      "outputs": [
        {
          "data": {
            "text/html": [
              "<div>\n",
              "<style scoped>\n",
              "    .dataframe tbody tr th:only-of-type {\n",
              "        vertical-align: middle;\n",
              "    }\n",
              "\n",
              "    .dataframe tbody tr th {\n",
              "        vertical-align: top;\n",
              "    }\n",
              "\n",
              "    .dataframe thead th {\n",
              "        text-align: right;\n",
              "    }\n",
              "</style>\n",
              "<table border=\"1\" class=\"dataframe\">\n",
              "  <thead>\n",
              "    <tr style=\"text-align: right;\">\n",
              "      <th></th>\n",
              "      <th>children</th>\n",
              "      <th>Claim_Amount</th>\n",
              "      <th>past_consultations</th>\n",
              "      <th>Hospital_expenditure</th>\n",
              "      <th>Anual_Salary</th>\n",
              "    </tr>\n",
              "  </thead>\n",
              "  <tbody>\n",
              "    <tr>\n",
              "      <th>0</th>\n",
              "      <td>0.0</td>\n",
              "      <td>29087.54313</td>\n",
              "      <td>17.0</td>\n",
              "      <td>4.720921e+06</td>\n",
              "      <td>5.578497e+07</td>\n",
              "    </tr>\n",
              "    <tr>\n",
              "      <th>1</th>\n",
              "      <td>0.0</td>\n",
              "      <td>39053.67437</td>\n",
              "      <td>7.0</td>\n",
              "      <td>4.329832e+06</td>\n",
              "      <td>1.370089e+07</td>\n",
              "    </tr>\n",
              "    <tr>\n",
              "      <th>2</th>\n",
              "      <td>0.0</td>\n",
              "      <td>39023.62759</td>\n",
              "      <td>19.0</td>\n",
              "      <td>6.884861e+06</td>\n",
              "      <td>7.352311e+07</td>\n",
              "    </tr>\n",
              "    <tr>\n",
              "      <th>3</th>\n",
              "      <td>0.0</td>\n",
              "      <td>28185.39332</td>\n",
              "      <td>11.0</td>\n",
              "      <td>4.274774e+06</td>\n",
              "      <td>7.581968e+07</td>\n",
              "    </tr>\n",
              "    <tr>\n",
              "      <th>4</th>\n",
              "      <td>0.0</td>\n",
              "      <td>14697.85941</td>\n",
              "      <td>16.0</td>\n",
              "      <td>3.787294e+06</td>\n",
              "      <td>2.301232e+07</td>\n",
              "    </tr>\n",
              "    <tr>\n",
              "      <th>...</th>\n",
              "      <td>...</td>\n",
              "      <td>...</td>\n",
              "      <td>...</td>\n",
              "      <td>...</td>\n",
              "      <td>...</td>\n",
              "    </tr>\n",
              "    <tr>\n",
              "      <th>1046</th>\n",
              "      <td>1.0</td>\n",
              "      <td>51168.25474</td>\n",
              "      <td>23.0</td>\n",
              "      <td>1.665982e+07</td>\n",
              "      <td>3.712188e+08</td>\n",
              "    </tr>\n",
              "    <tr>\n",
              "      <th>1048</th>\n",
              "      <td>3.0</td>\n",
              "      <td>46619.40230</td>\n",
              "      <td>27.0</td>\n",
              "      <td>1.361938e+07</td>\n",
              "      <td>3.812895e+08</td>\n",
              "    </tr>\n",
              "    <tr>\n",
              "      <th>1050</th>\n",
              "      <td>0.0</td>\n",
              "      <td>24382.58056</td>\n",
              "      <td>21.0</td>\n",
              "      <td>1.028991e+07</td>\n",
              "      <td>3.745310e+08</td>\n",
              "    </tr>\n",
              "    <tr>\n",
              "      <th>1062</th>\n",
              "      <td>2.0</td>\n",
              "      <td>21596.43846</td>\n",
              "      <td>10.0</td>\n",
              "      <td>1.083030e+07</td>\n",
              "      <td>3.696849e+08</td>\n",
              "    </tr>\n",
              "    <tr>\n",
              "      <th>1069</th>\n",
              "      <td>0.0</td>\n",
              "      <td>17200.14586</td>\n",
              "      <td>15.0</td>\n",
              "      <td>1.247744e+07</td>\n",
              "      <td>3.696849e+08</td>\n",
              "    </tr>\n",
              "  </tbody>\n",
              "</table>\n",
              "<p>1030 rows × 5 columns</p>\n",
              "</div>"
            ],
            "text/plain": [
              "      children  Claim_Amount  past_consultations  Hospital_expenditure  \\\n",
              "0          0.0   29087.54313                17.0          4.720921e+06   \n",
              "1          0.0   39053.67437                 7.0          4.329832e+06   \n",
              "2          0.0   39023.62759                19.0          6.884861e+06   \n",
              "3          0.0   28185.39332                11.0          4.274774e+06   \n",
              "4          0.0   14697.85941                16.0          3.787294e+06   \n",
              "...        ...           ...                 ...                   ...   \n",
              "1046       1.0   51168.25474                23.0          1.665982e+07   \n",
              "1048       3.0   46619.40230                27.0          1.361938e+07   \n",
              "1050       0.0   24382.58056                21.0          1.028991e+07   \n",
              "1062       2.0   21596.43846                10.0          1.083030e+07   \n",
              "1069       0.0   17200.14586                15.0          1.247744e+07   \n",
              "\n",
              "      Anual_Salary  \n",
              "0     5.578497e+07  \n",
              "1     1.370089e+07  \n",
              "2     7.352311e+07  \n",
              "3     7.581968e+07  \n",
              "4     2.301232e+07  \n",
              "...            ...  \n",
              "1046  3.712188e+08  \n",
              "1048  3.812895e+08  \n",
              "1050  3.745310e+08  \n",
              "1062  3.696849e+08  \n",
              "1069  3.696849e+08  \n",
              "\n",
              "[1030 rows x 5 columns]"
            ]
          },
          "execution_count": 84,
          "metadata": {},
          "output_type": "execute_result"
        }
      ],
      "source": [
        "x\n"
      ]
    },
    {
      "cell_type": "code",
      "execution_count": null,
      "id": "0b9163d4",
      "metadata": {
        "id": "0b9163d4",
        "outputId": "5259f47c-09c9-44d6-8e06-278d1902953c"
      },
      "outputs": [
        {
          "data": {
            "text/plain": [
              "0        1121.87390\n",
              "1        1131.50660\n",
              "2        1135.94070\n",
              "3        1136.39940\n",
              "4        1137.01100\n",
              "           ...     \n",
              "1046    19107.77960\n",
              "1048    19199.94400\n",
              "1050    19350.36890\n",
              "1062    19798.05455\n",
              "1069    20234.85475\n",
              "Name: charges, Length: 1030, dtype: float64"
            ]
          },
          "execution_count": 85,
          "metadata": {},
          "output_type": "execute_result"
        }
      ],
      "source": [
        "y"
      ]
    },
    {
      "cell_type": "code",
      "execution_count": null,
      "id": "wER1kZS_6zNr",
      "metadata": {
        "id": "wER1kZS_6zNr"
      },
      "outputs": [],
      "source": [
        "#loc---> location\n",
        "# iloc---> index location"
      ]
    },
    {
      "cell_type": "code",
      "execution_count": null,
      "id": "w1iqGMiz7GLN",
      "metadata": {
        "id": "w1iqGMiz7GLN"
      },
      "outputs": [],
      "source": [
        "# Splitting the data --> train and test"
      ]
    },
    {
      "cell_type": "code",
      "execution_count": null,
      "id": "DtG99pt-6zYb",
      "metadata": {
        "id": "DtG99pt-6zYb",
        "outputId": "37e1de46-45eb-405f-e518-d0ad2b70d573"
      },
      "outputs": [
        {
          "data": {
            "text/html": [
              "<div>\n",
              "<style scoped>\n",
              "    .dataframe tbody tr th:only-of-type {\n",
              "        vertical-align: middle;\n",
              "    }\n",
              "\n",
              "    .dataframe tbody tr th {\n",
              "        vertical-align: top;\n",
              "    }\n",
              "\n",
              "    .dataframe thead th {\n",
              "        text-align: right;\n",
              "    }\n",
              "</style>\n",
              "<table border=\"1\" class=\"dataframe\">\n",
              "  <thead>\n",
              "    <tr style=\"text-align: right;\">\n",
              "      <th></th>\n",
              "      <th>smoker</th>\n",
              "      <th>Claim_Amount</th>\n",
              "    </tr>\n",
              "  </thead>\n",
              "  <tbody>\n",
              "    <tr>\n",
              "      <th>0</th>\n",
              "      <td>no</td>\n",
              "      <td>29087.54313</td>\n",
              "    </tr>\n",
              "    <tr>\n",
              "      <th>1</th>\n",
              "      <td>no</td>\n",
              "      <td>39053.67437</td>\n",
              "    </tr>\n",
              "    <tr>\n",
              "      <th>2</th>\n",
              "      <td>no</td>\n",
              "      <td>39023.62759</td>\n",
              "    </tr>\n",
              "    <tr>\n",
              "      <th>3</th>\n",
              "      <td>no</td>\n",
              "      <td>28185.39332</td>\n",
              "    </tr>\n",
              "    <tr>\n",
              "      <th>4</th>\n",
              "      <td>no</td>\n",
              "      <td>14697.85941</td>\n",
              "    </tr>\n",
              "    <tr>\n",
              "      <th>...</th>\n",
              "      <td>...</td>\n",
              "      <td>...</td>\n",
              "    </tr>\n",
              "    <tr>\n",
              "      <th>1046</th>\n",
              "      <td>yes</td>\n",
              "      <td>51168.25474</td>\n",
              "    </tr>\n",
              "    <tr>\n",
              "      <th>1048</th>\n",
              "      <td>yes</td>\n",
              "      <td>46619.40230</td>\n",
              "    </tr>\n",
              "    <tr>\n",
              "      <th>1050</th>\n",
              "      <td>yes</td>\n",
              "      <td>24382.58056</td>\n",
              "    </tr>\n",
              "    <tr>\n",
              "      <th>1062</th>\n",
              "      <td>yes</td>\n",
              "      <td>21596.43846</td>\n",
              "    </tr>\n",
              "    <tr>\n",
              "      <th>1069</th>\n",
              "      <td>yes</td>\n",
              "      <td>17200.14586</td>\n",
              "    </tr>\n",
              "  </tbody>\n",
              "</table>\n",
              "<p>1030 rows × 2 columns</p>\n",
              "</div>"
            ],
            "text/plain": [
              "     smoker  Claim_Amount\n",
              "0        no   29087.54313\n",
              "1        no   39053.67437\n",
              "2        no   39023.62759\n",
              "3        no   28185.39332\n",
              "4        no   14697.85941\n",
              "...     ...           ...\n",
              "1046    yes   51168.25474\n",
              "1048    yes   46619.40230\n",
              "1050    yes   24382.58056\n",
              "1062    yes   21596.43846\n",
              "1069    yes   17200.14586\n",
              "\n",
              "[1030 rows x 2 columns]"
            ]
          },
          "execution_count": 89,
          "metadata": {},
          "output_type": "execute_result"
        }
      ],
      "source": [
        "insurance.iloc[:,2:4]"
      ]
    },
    {
      "cell_type": "code",
      "execution_count": null,
      "id": "ced475ca",
      "metadata": {
        "id": "ced475ca"
      },
      "outputs": [],
      "source": [
        "# 1 2 3 4 5 6\n",
        "# 345\n",
        "# 456\n",
        "# Only tell me the even numbers\n",
        "# 2 4 6\n",
        "# 246\n",
        "# Just to prevent the data from being biased"
      ]
    },
    {
      "cell_type": "code",
      "execution_count": null,
      "id": "23451c11",
      "metadata": {
        "id": "23451c11"
      },
      "outputs": [],
      "source": [
        "x_train, x_test, y_train, y_test=train_test_split(x,y,train_size=0.8, random_state=0)\n",
        "#how to split the data?\n",
        "#100%---> 80% train and 20% test\n",
        "# xtrain,xtest,ytrain,ytest= train_test_split(data,train_size/test_size)\n",
        "#train_size should be more\n",
        "#random_state--> pattern\n",
        "#example\n",
        "# 1,2,3,4,5,6\n",
        "# 3,4,6\n",
        "# 1,5,6\n",
        "# 1,2,3----> without random_state\n",
        "\n",
        "# 1,3,6\n",
        "# 1,3,6\n",
        "# 1,3,6\n",
        "#rs=0/1/100"
      ]
    },
    {
      "cell_type": "code",
      "execution_count": null,
      "id": "fe467b96",
      "metadata": {
        "id": "fe467b96",
        "outputId": "f11a3ebf-2c9a-4c2b-b1eb-1211ce53f583"
      },
      "outputs": [
        {
          "name": "stdout",
          "output_type": "stream",
          "text": [
            "(824, 5)\n",
            "(824,)\n",
            "(206, 5)\n",
            "(206,)\n"
          ]
        }
      ],
      "source": [
        "print(x_train.shape)\n",
        "print(y_train.shape)\n",
        "print(x_test.shape)\n",
        "print(y_test.shape)"
      ]
    },
    {
      "cell_type": "code",
      "execution_count": null,
      "id": "4b90450e",
      "metadata": {
        "id": "4b90450e",
        "outputId": "bfc364bc-a327-4ae9-e8b9-0419b5a35679"
      },
      "outputs": [
        {
          "data": {
            "text/plain": [
              "(     children  Claim_Amount  past_consultations  Hospital_expenditure  \\\n",
              " 746       0.0  25238.363470                11.0          2.086869e+06   \n",
              " 641       0.0  37222.476360                 9.0          6.062378e+06   \n",
              " 999       1.0  30825.190070                11.0          5.923489e+06   \n",
              " 281       0.0   9560.754493                15.0          3.185350e+06   \n",
              " 802       2.0  12992.139950                24.0          4.075903e+06   \n",
              " ..        ...           ...                 ...                   ...   \n",
              " 279       1.0  20150.675120                 9.0          1.747107e+05   \n",
              " 768       0.0   9582.708574                11.0          1.046259e+07   \n",
              " 841       0.0  31405.793590                12.0          9.380141e+06   \n",
              " 561       2.0   9816.604000                12.0          8.134594e+05   \n",
              " 688       0.0  55041.113080                16.0          9.347759e+06   \n",
              " \n",
              "      Anual_Salary  \n",
              " 746  1.649883e+08  \n",
              " 641  9.657123e+07  \n",
              " 999  3.029514e+08  \n",
              " 281  7.490390e+07  \n",
              " 802  2.061268e+08  \n",
              " ..            ...  \n",
              " 279  6.328892e+07  \n",
              " 768  1.850292e+08  \n",
              " 841  2.118739e+08  \n",
              " 561  1.287152e+08  \n",
              " 688  1.776668e+08  \n",
              " \n",
              " [824 rows x 5 columns],\n",
              " 746    10594.50155\n",
              " 641     8932.08400\n",
              " 999    16450.89470\n",
              " 281     4185.09790\n",
              " 802    11396.90020\n",
              "           ...     \n",
              " 279     4149.73600\n",
              " 768    10965.44600\n",
              " 841    11938.25595\n",
              " 561     7740.33700\n",
              " 688     9634.53800\n",
              " Name: charges, Length: 824, dtype: float64,\n",
              "      children  Claim_Amount  past_consultations  Hospital_expenditure  \\\n",
              " 752       0.0  33948.245030                14.0           2852368.952   \n",
              " 723       0.0  55314.076930                22.0           8962514.811   \n",
              " 177       2.0   5496.365185                 7.0           4728536.620   \n",
              " 834       0.0  22778.601030                24.0           5349680.612   \n",
              " 718       2.0  11951.090250                 4.0           5368280.300   \n",
              " ..        ...           ...                 ...                   ...   \n",
              " 627       0.0  49140.254220                10.0           4776407.417   \n",
              " 993       3.0  20212.558840                16.0           4530674.378   \n",
              " 426       1.0  45637.390130                 5.0           9278303.409   \n",
              " 895       2.0  12770.132490                24.0           4895703.017   \n",
              " 251       1.0  37250.209760                11.0           4798586.872   \n",
              " \n",
              "      Anual_Salary  \n",
              " 752  1.322794e+08  \n",
              " 723  1.811501e+08  \n",
              " 177  5.833210e+07  \n",
              " 834  2.223391e+08  \n",
              " 718  1.787119e+08  \n",
              " ..            ...  \n",
              " 627  9.172299e+07  \n",
              " 993  2.787266e+08  \n",
              " 426  6.394902e+07  \n",
              " 895  2.081729e+08  \n",
              " 251  1.548385e+07  \n",
              " \n",
              " [206 rows x 5 columns],\n",
              " 752    10704.47000\n",
              " 723    10197.77220\n",
              " 177     2801.25880\n",
              " 834    11848.14100\n",
              " 718    10107.22060\n",
              "           ...     \n",
              " 627     8688.85885\n",
              " 993    16085.12750\n",
              " 426     5976.83110\n",
              " 895    12925.88600\n",
              " 251     3766.88380\n",
              " Name: charges, Length: 206, dtype: float64)"
            ]
          },
          "execution_count": 95,
          "metadata": {},
          "output_type": "execute_result"
        }
      ],
      "source": [
        "x_train , y_train, x_test, y_test"
      ]
    },
    {
      "cell_type": "code",
      "execution_count": null,
      "id": "f82e3274",
      "metadata": {
        "id": "f82e3274"
      },
      "outputs": [],
      "source": [
        "l_model=LinearRegression()\n",
        "#building the model\n",
        "# building my robot---> this is example"
      ]
    },
    {
      "cell_type": "code",
      "execution_count": null,
      "id": "ee2dafdb",
      "metadata": {
        "id": "ee2dafdb",
        "outputId": "8cf35ef9-b55a-4804-a0df-8e6a351c3f61"
      },
      "outputs": [
        {
          "data": {
            "text/html": [
              "<style>#sk-container-id-1 {color: black;background-color: white;}#sk-container-id-1 pre{padding: 0;}#sk-container-id-1 div.sk-toggleable {background-color: white;}#sk-container-id-1 label.sk-toggleable__label {cursor: pointer;display: block;width: 100%;margin-bottom: 0;padding: 0.3em;box-sizing: border-box;text-align: center;}#sk-container-id-1 label.sk-toggleable__label-arrow:before {content: \"▸\";float: left;margin-right: 0.25em;color: #696969;}#sk-container-id-1 label.sk-toggleable__label-arrow:hover:before {color: black;}#sk-container-id-1 div.sk-estimator:hover label.sk-toggleable__label-arrow:before {color: black;}#sk-container-id-1 div.sk-toggleable__content {max-height: 0;max-width: 0;overflow: hidden;text-align: left;background-color: #f0f8ff;}#sk-container-id-1 div.sk-toggleable__content pre {margin: 0.2em;color: black;border-radius: 0.25em;background-color: #f0f8ff;}#sk-container-id-1 input.sk-toggleable__control:checked~div.sk-toggleable__content {max-height: 200px;max-width: 100%;overflow: auto;}#sk-container-id-1 input.sk-toggleable__control:checked~label.sk-toggleable__label-arrow:before {content: \"▾\";}#sk-container-id-1 div.sk-estimator input.sk-toggleable__control:checked~label.sk-toggleable__label {background-color: #d4ebff;}#sk-container-id-1 div.sk-label input.sk-toggleable__control:checked~label.sk-toggleable__label {background-color: #d4ebff;}#sk-container-id-1 input.sk-hidden--visually {border: 0;clip: rect(1px 1px 1px 1px);clip: rect(1px, 1px, 1px, 1px);height: 1px;margin: -1px;overflow: hidden;padding: 0;position: absolute;width: 1px;}#sk-container-id-1 div.sk-estimator {font-family: monospace;background-color: #f0f8ff;border: 1px dotted black;border-radius: 0.25em;box-sizing: border-box;margin-bottom: 0.5em;}#sk-container-id-1 div.sk-estimator:hover {background-color: #d4ebff;}#sk-container-id-1 div.sk-parallel-item::after {content: \"\";width: 100%;border-bottom: 1px solid gray;flex-grow: 1;}#sk-container-id-1 div.sk-label:hover label.sk-toggleable__label {background-color: #d4ebff;}#sk-container-id-1 div.sk-serial::before {content: \"\";position: absolute;border-left: 1px solid gray;box-sizing: border-box;top: 0;bottom: 0;left: 50%;z-index: 0;}#sk-container-id-1 div.sk-serial {display: flex;flex-direction: column;align-items: center;background-color: white;padding-right: 0.2em;padding-left: 0.2em;position: relative;}#sk-container-id-1 div.sk-item {position: relative;z-index: 1;}#sk-container-id-1 div.sk-parallel {display: flex;align-items: stretch;justify-content: center;background-color: white;position: relative;}#sk-container-id-1 div.sk-item::before, #sk-container-id-1 div.sk-parallel-item::before {content: \"\";position: absolute;border-left: 1px solid gray;box-sizing: border-box;top: 0;bottom: 0;left: 50%;z-index: -1;}#sk-container-id-1 div.sk-parallel-item {display: flex;flex-direction: column;z-index: 1;position: relative;background-color: white;}#sk-container-id-1 div.sk-parallel-item:first-child::after {align-self: flex-end;width: 50%;}#sk-container-id-1 div.sk-parallel-item:last-child::after {align-self: flex-start;width: 50%;}#sk-container-id-1 div.sk-parallel-item:only-child::after {width: 0;}#sk-container-id-1 div.sk-dashed-wrapped {border: 1px dashed gray;margin: 0 0.4em 0.5em 0.4em;box-sizing: border-box;padding-bottom: 0.4em;background-color: white;}#sk-container-id-1 div.sk-label label {font-family: monospace;font-weight: bold;display: inline-block;line-height: 1.2em;}#sk-container-id-1 div.sk-label-container {text-align: center;}#sk-container-id-1 div.sk-container {/* jupyter's `normalize.less` sets `[hidden] { display: none; }` but bootstrap.min.css set `[hidden] { display: none !important; }` so we also need the `!important` here to be able to override the default hidden behavior on the sphinx rendered scikit-learn.org. See: https://github.com/scikit-learn/scikit-learn/issues/21755 */display: inline-block !important;position: relative;}#sk-container-id-1 div.sk-text-repr-fallback {display: none;}</style><div id=\"sk-container-id-1\" class=\"sk-top-container\"><div class=\"sk-text-repr-fallback\"><pre>LinearRegression()</pre><b>In a Jupyter environment, please rerun this cell to show the HTML representation or trust the notebook. <br />On GitHub, the HTML representation is unable to render, please try loading this page with nbviewer.org.</b></div><div class=\"sk-container\" hidden><div class=\"sk-item\"><div class=\"sk-estimator sk-toggleable\"><input class=\"sk-toggleable__control sk-hidden--visually\" id=\"sk-estimator-id-1\" type=\"checkbox\" checked><label for=\"sk-estimator-id-1\" class=\"sk-toggleable__label sk-toggleable__label-arrow\">LinearRegression</label><div class=\"sk-toggleable__content\"><pre>LinearRegression()</pre></div></div></div></div></div>"
            ],
            "text/plain": [
              "LinearRegression()"
            ]
          },
          "execution_count": 97,
          "metadata": {},
          "output_type": "execute_result"
        }
      ],
      "source": [
        "l_model.fit(x_train, y_train)"
      ]
    },
    {
      "cell_type": "markdown",
      "source": [
        "## Predicting Model Accuracy"
      ],
      "metadata": {
        "id": "AB8zCZkDmt1S"
      },
      "id": "AB8zCZkDmt1S"
    },
    {
      "cell_type": "code",
      "execution_count": null,
      "id": "de0b93a7",
      "metadata": {
        "id": "de0b93a7"
      },
      "outputs": [],
      "source": [
        "predictions=l_model.predict(x_test)"
      ]
    },
    {
      "cell_type": "code",
      "execution_count": null,
      "id": "387c24c7",
      "metadata": {
        "id": "387c24c7",
        "outputId": "a7f3c474-333f-427c-f1b9-7b3c64d02724"
      },
      "outputs": [
        {
          "data": {
            "text/plain": [
              "array([ 7410.79368292, 10525.46032916,  4225.68186834, 11784.67064226,\n",
              "        9710.44769939,  2920.28422479,  7675.02920953,  3974.0523559 ,\n",
              "        1998.90729711,  1644.33779822,  9355.99422157,  6212.23827285,\n",
              "        7039.69058406,  6913.4106462 ,  7297.05052729,  8116.21854337,\n",
              "        5359.21098612, 11610.94654975, 10731.85265306,  4125.98535048,\n",
              "        4978.27582416,  7076.11959566,  5297.22536169, 10517.54532015,\n",
              "        7970.32302539,  9134.27913297,  3195.07752333,  2030.84851755,\n",
              "        7974.53183189,  6784.2193549 ,  9063.13892275,  9603.83277347,\n",
              "        7310.54589069,  3127.0522965 , 10815.26325584,  6390.86195986,\n",
              "        2959.61224857,  5861.07915274,  8191.7821509 ,  3550.84253838,\n",
              "        2770.66188064,  7533.68996882,  9234.0016588 ,  4599.21923178,\n",
              "        7080.45812909,  6040.26489712,  9148.5945264 ,  9621.34374207,\n",
              "        1845.77904492,  4786.94915212, 10787.39907086, 10725.71531505,\n",
              "       10417.07991619,  4695.22528893,  7214.06291723,  4625.56717867,\n",
              "        7070.97071415,  4832.79229406,  4921.66452359,  5390.73490965,\n",
              "       12157.57282625,  5842.57056697,  5743.69269362,  3322.41361322,\n",
              "        5241.38796182,  5197.03180731, 12653.27365811, 12330.6144721 ,\n",
              "       13146.89736512, 10610.8617498 ,  5343.85665223,  5192.63095826,\n",
              "        2798.50864679,  7021.71170606,  5953.25286473,  7750.53776607,\n",
              "        3695.64413673,  9979.30782227,  9140.15977684,  5668.68647814,\n",
              "        7492.02711473,  5387.23905602,  7223.62153604,  4819.64692756,\n",
              "        5274.28601601,  9500.76335613,  8425.37847893,  6088.46443306,\n",
              "       17382.0811556 ,  4410.38971861,  7681.81845598, 11811.01314019,\n",
              "        2847.58654185,  7149.38115335, 12118.90030745,  5218.18164639,\n",
              "        8498.94921925, 18736.06282217,  8374.18288578, 11761.80964657,\n",
              "        6817.38169362,  7419.06962726,  6943.81378549, 15318.22331686,\n",
              "        4082.35264081,  9967.7891119 ,  4724.73502639,  4982.02483868,\n",
              "        8141.38248821, 15130.76274567,  9988.88380675,  3183.70063997,\n",
              "        9215.91516381,  4274.70522626, 16525.7888001 , 11553.07539794,\n",
              "       12180.44821733, 18729.20706776,  9852.65803543,  5369.12706169,\n",
              "        8091.955761  , 15196.45857583,  5444.20577558,  4079.32115206,\n",
              "       13076.34151516,  7445.10746272, 10830.27714959,  6369.85142805,\n",
              "        4542.9064519 , 11411.14967822,  4709.91345621,  3528.20093323,\n",
              "        3487.87204913, 12257.00243488,  6256.80091317,  5009.68002785,\n",
              "       10089.25495932,  6116.31502397,  8280.4343867 ,  7031.72556366,\n",
              "        9930.75519414,  3817.30935555,  4048.44285506, 11907.05298703,\n",
              "        6686.91692828,  9807.200473  ,  5232.32852199, 10347.06713294,\n",
              "       11601.69659175,  8131.79034823,  5683.70711559, 16387.3848313 ,\n",
              "        5464.06534314,  4244.00545448,  7264.97043063, 17023.64917215,\n",
              "        3260.27395253,  7385.10498572,  3021.55093669,  7859.13012523,\n",
              "        4654.88456063,  9096.8984787 , 14803.62303482,  6155.00653323,\n",
              "       17144.28142724,  2417.39102398,  4006.11079599,  5390.03227281,\n",
              "        1196.76765806, 10475.72412494, 11314.24814601,  7035.90576039,\n",
              "       10439.81357373,  8530.47197745,  4897.20298841,  4789.69132358,\n",
              "       10411.41435708,  6285.14938641,  8396.08173084,  7137.34612038,\n",
              "        7024.10339038, 12696.94870274, 10249.76227982,  5206.9652089 ,\n",
              "        6026.04223447,  6395.0513615 ,  8192.26491728, 19892.85307796,\n",
              "        6797.67843891,  7628.25112572, 10469.76556042,  2429.62894559,\n",
              "       13001.99977   ,  6795.73148931,  7917.71058933,  8232.89888416,\n",
              "       11229.86987183, 11936.16097124,  7674.07424507,  2631.98869906,\n",
              "        8297.23725025,  5781.93758285, 14969.26273667,  4926.60219652,\n",
              "       11617.12721089,  2520.96344643])"
            ]
          },
          "execution_count": 99,
          "metadata": {},
          "output_type": "execute_result"
        }
      ],
      "source": [
        "predictions  # the answers that you write in the exam"
      ]
    },
    {
      "cell_type": "code",
      "execution_count": null,
      "id": "265d03b7",
      "metadata": {
        "id": "265d03b7"
      },
      "outputs": [],
      "source": [
        "error_pred=pd.DataFrame(columns=('Actual_data','Prediction_data'))"
      ]
    },
    {
      "cell_type": "code",
      "execution_count": null,
      "id": "a3213faf",
      "metadata": {
        "id": "a3213faf",
        "outputId": "fe7086b5-237a-492d-d127-739aa7ede1b9"
      },
      "outputs": [
        {
          "data": {
            "text/html": [
              "<div>\n",
              "<style scoped>\n",
              "    .dataframe tbody tr th:only-of-type {\n",
              "        vertical-align: middle;\n",
              "    }\n",
              "\n",
              "    .dataframe tbody tr th {\n",
              "        vertical-align: top;\n",
              "    }\n",
              "\n",
              "    .dataframe thead th {\n",
              "        text-align: right;\n",
              "    }\n",
              "</style>\n",
              "<table border=\"1\" class=\"dataframe\">\n",
              "  <thead>\n",
              "    <tr style=\"text-align: right;\">\n",
              "      <th></th>\n",
              "      <th>Actual_data</th>\n",
              "      <th>Prediction_data</th>\n",
              "    </tr>\n",
              "  </thead>\n",
              "  <tbody>\n",
              "  </tbody>\n",
              "</table>\n",
              "</div>"
            ],
            "text/plain": [
              "Empty DataFrame\n",
              "Columns: [Actual_data, Prediction_data]\n",
              "Index: []"
            ]
          },
          "execution_count": 101,
          "metadata": {},
          "output_type": "execute_result"
        }
      ],
      "source": [
        "error_pred"
      ]
    },
    {
      "cell_type": "code",
      "execution_count": null,
      "id": "d92d06a5",
      "metadata": {
        "id": "d92d06a5"
      },
      "outputs": [],
      "source": [
        "error_pred['Actual_data']=y_test\n",
        "#professor ans key"
      ]
    },
    {
      "cell_type": "code",
      "execution_count": null,
      "id": "28be00fd",
      "metadata": {
        "id": "28be00fd",
        "outputId": "134a2b29-61fc-4575-a953-3c51b75aa496"
      },
      "outputs": [
        {
          "data": {
            "text/html": [
              "<div>\n",
              "<style scoped>\n",
              "    .dataframe tbody tr th:only-of-type {\n",
              "        vertical-align: middle;\n",
              "    }\n",
              "\n",
              "    .dataframe tbody tr th {\n",
              "        vertical-align: top;\n",
              "    }\n",
              "\n",
              "    .dataframe thead th {\n",
              "        text-align: right;\n",
              "    }\n",
              "</style>\n",
              "<table border=\"1\" class=\"dataframe\">\n",
              "  <thead>\n",
              "    <tr style=\"text-align: right;\">\n",
              "      <th></th>\n",
              "      <th>Actual_data</th>\n",
              "      <th>Prediction_data</th>\n",
              "    </tr>\n",
              "  </thead>\n",
              "  <tbody>\n",
              "    <tr>\n",
              "      <th>752</th>\n",
              "      <td>10704.47000</td>\n",
              "      <td>NaN</td>\n",
              "    </tr>\n",
              "    <tr>\n",
              "      <th>723</th>\n",
              "      <td>10197.77220</td>\n",
              "      <td>NaN</td>\n",
              "    </tr>\n",
              "    <tr>\n",
              "      <th>177</th>\n",
              "      <td>2801.25880</td>\n",
              "      <td>NaN</td>\n",
              "    </tr>\n",
              "    <tr>\n",
              "      <th>834</th>\n",
              "      <td>11848.14100</td>\n",
              "      <td>NaN</td>\n",
              "    </tr>\n",
              "    <tr>\n",
              "      <th>718</th>\n",
              "      <td>10107.22060</td>\n",
              "      <td>NaN</td>\n",
              "    </tr>\n",
              "    <tr>\n",
              "      <th>...</th>\n",
              "      <td>...</td>\n",
              "      <td>...</td>\n",
              "    </tr>\n",
              "    <tr>\n",
              "      <th>627</th>\n",
              "      <td>8688.85885</td>\n",
              "      <td>NaN</td>\n",
              "    </tr>\n",
              "    <tr>\n",
              "      <th>993</th>\n",
              "      <td>16085.12750</td>\n",
              "      <td>NaN</td>\n",
              "    </tr>\n",
              "    <tr>\n",
              "      <th>426</th>\n",
              "      <td>5976.83110</td>\n",
              "      <td>NaN</td>\n",
              "    </tr>\n",
              "    <tr>\n",
              "      <th>895</th>\n",
              "      <td>12925.88600</td>\n",
              "      <td>NaN</td>\n",
              "    </tr>\n",
              "    <tr>\n",
              "      <th>251</th>\n",
              "      <td>3766.88380</td>\n",
              "      <td>NaN</td>\n",
              "    </tr>\n",
              "  </tbody>\n",
              "</table>\n",
              "<p>206 rows × 2 columns</p>\n",
              "</div>"
            ],
            "text/plain": [
              "     Actual_data Prediction_data\n",
              "752  10704.47000             NaN\n",
              "723  10197.77220             NaN\n",
              "177   2801.25880             NaN\n",
              "834  11848.14100             NaN\n",
              "718  10107.22060             NaN\n",
              "..           ...             ...\n",
              "627   8688.85885             NaN\n",
              "993  16085.12750             NaN\n",
              "426   5976.83110             NaN\n",
              "895  12925.88600             NaN\n",
              "251   3766.88380             NaN\n",
              "\n",
              "[206 rows x 2 columns]"
            ]
          },
          "execution_count": 103,
          "metadata": {},
          "output_type": "execute_result"
        }
      ],
      "source": [
        "error_pred"
      ]
    },
    {
      "cell_type": "code",
      "execution_count": null,
      "id": "7e0c867d",
      "metadata": {
        "id": "7e0c867d"
      },
      "outputs": [],
      "source": [
        "error_pred['Prediction_data']=predictions\n",
        "# ans given by kid"
      ]
    },
    {
      "cell_type": "code",
      "execution_count": null,
      "id": "7b9207b3",
      "metadata": {
        "id": "7b9207b3",
        "outputId": "b23320b3-b85d-4f8c-d12e-0a13dbb587fa"
      },
      "outputs": [
        {
          "data": {
            "text/html": [
              "<div>\n",
              "<style scoped>\n",
              "    .dataframe tbody tr th:only-of-type {\n",
              "        vertical-align: middle;\n",
              "    }\n",
              "\n",
              "    .dataframe tbody tr th {\n",
              "        vertical-align: top;\n",
              "    }\n",
              "\n",
              "    .dataframe thead th {\n",
              "        text-align: right;\n",
              "    }\n",
              "</style>\n",
              "<table border=\"1\" class=\"dataframe\">\n",
              "  <thead>\n",
              "    <tr style=\"text-align: right;\">\n",
              "      <th></th>\n",
              "      <th>Actual_data</th>\n",
              "      <th>Prediction_data</th>\n",
              "    </tr>\n",
              "  </thead>\n",
              "  <tbody>\n",
              "    <tr>\n",
              "      <th>752</th>\n",
              "      <td>10704.4700</td>\n",
              "      <td>7410.793683</td>\n",
              "    </tr>\n",
              "    <tr>\n",
              "      <th>723</th>\n",
              "      <td>10197.7722</td>\n",
              "      <td>10525.460329</td>\n",
              "    </tr>\n",
              "    <tr>\n",
              "      <th>177</th>\n",
              "      <td>2801.2588</td>\n",
              "      <td>4225.681868</td>\n",
              "    </tr>\n",
              "    <tr>\n",
              "      <th>834</th>\n",
              "      <td>11848.1410</td>\n",
              "      <td>11784.670642</td>\n",
              "    </tr>\n",
              "    <tr>\n",
              "      <th>718</th>\n",
              "      <td>10107.2206</td>\n",
              "      <td>9710.447699</td>\n",
              "    </tr>\n",
              "  </tbody>\n",
              "</table>\n",
              "</div>"
            ],
            "text/plain": [
              "     Actual_data  Prediction_data\n",
              "752   10704.4700      7410.793683\n",
              "723   10197.7722     10525.460329\n",
              "177    2801.2588      4225.681868\n",
              "834   11848.1410     11784.670642\n",
              "718   10107.2206      9710.447699"
            ]
          },
          "execution_count": 105,
          "metadata": {},
          "output_type": "execute_result"
        }
      ],
      "source": [
        "error_pred.head()"
      ]
    },
    {
      "cell_type": "code",
      "execution_count": null,
      "id": "d1e932a4",
      "metadata": {
        "id": "d1e932a4",
        "outputId": "9e9a1828-0378-479d-fc9d-0be0b9f3dddf"
      },
      "outputs": [
        {
          "data": {
            "text/plain": [
              "(206, 2)"
            ]
          },
          "execution_count": 106,
          "metadata": {},
          "output_type": "execute_result"
        }
      ],
      "source": [
        "error_pred.shape"
      ]
    },
    {
      "cell_type": "code",
      "execution_count": null,
      "id": "d2f2eb80",
      "metadata": {
        "id": "d2f2eb80"
      },
      "outputs": [],
      "source": [
        "error_pred['Error']=error_pred['Actual_data']-error_pred['Prediction_data']"
      ]
    },
    {
      "cell_type": "code",
      "execution_count": null,
      "id": "05d308c4",
      "metadata": {
        "id": "05d308c4",
        "outputId": "528261ec-9415-4a82-d155-c8dbc492598e"
      },
      "outputs": [
        {
          "data": {
            "text/html": [
              "<div>\n",
              "<style scoped>\n",
              "    .dataframe tbody tr th:only-of-type {\n",
              "        vertical-align: middle;\n",
              "    }\n",
              "\n",
              "    .dataframe tbody tr th {\n",
              "        vertical-align: top;\n",
              "    }\n",
              "\n",
              "    .dataframe thead th {\n",
              "        text-align: right;\n",
              "    }\n",
              "</style>\n",
              "<table border=\"1\" class=\"dataframe\">\n",
              "  <thead>\n",
              "    <tr style=\"text-align: right;\">\n",
              "      <th></th>\n",
              "      <th>Actual_data</th>\n",
              "      <th>Prediction_data</th>\n",
              "      <th>Error</th>\n",
              "    </tr>\n",
              "  </thead>\n",
              "  <tbody>\n",
              "    <tr>\n",
              "      <th>752</th>\n",
              "      <td>10704.4700</td>\n",
              "      <td>7410.793683</td>\n",
              "      <td>3293.676317</td>\n",
              "    </tr>\n",
              "    <tr>\n",
              "      <th>723</th>\n",
              "      <td>10197.7722</td>\n",
              "      <td>10525.460329</td>\n",
              "      <td>-327.688129</td>\n",
              "    </tr>\n",
              "    <tr>\n",
              "      <th>177</th>\n",
              "      <td>2801.2588</td>\n",
              "      <td>4225.681868</td>\n",
              "      <td>-1424.423068</td>\n",
              "    </tr>\n",
              "    <tr>\n",
              "      <th>834</th>\n",
              "      <td>11848.1410</td>\n",
              "      <td>11784.670642</td>\n",
              "      <td>63.470358</td>\n",
              "    </tr>\n",
              "    <tr>\n",
              "      <th>718</th>\n",
              "      <td>10107.2206</td>\n",
              "      <td>9710.447699</td>\n",
              "      <td>396.772901</td>\n",
              "    </tr>\n",
              "  </tbody>\n",
              "</table>\n",
              "</div>"
            ],
            "text/plain": [
              "     Actual_data  Prediction_data        Error\n",
              "752   10704.4700      7410.793683  3293.676317\n",
              "723   10197.7722     10525.460329  -327.688129\n",
              "177    2801.2588      4225.681868 -1424.423068\n",
              "834   11848.1410     11784.670642    63.470358\n",
              "718   10107.2206      9710.447699   396.772901"
            ]
          },
          "execution_count": 108,
          "metadata": {},
          "output_type": "execute_result"
        }
      ],
      "source": [
        "error_pred.head()"
      ]
    },
    {
      "cell_type": "code",
      "execution_count": null,
      "id": "fa4cdf35",
      "metadata": {
        "id": "fa4cdf35"
      },
      "outputs": [],
      "source": [
        "# r2 score"
      ]
    },
    {
      "cell_type": "code",
      "execution_count": null,
      "id": "6719e1a6",
      "metadata": {
        "id": "6719e1a6"
      },
      "outputs": [],
      "source": [
        "from sklearn.metrics import *"
      ]
    },
    {
      "cell_type": "code",
      "execution_count": null,
      "id": "e4363890",
      "metadata": {
        "id": "e4363890"
      },
      "outputs": [],
      "source": []
    },
    {
      "cell_type": "code",
      "execution_count": null,
      "id": "6dc34792",
      "metadata": {
        "id": "6dc34792",
        "outputId": "c2f6e728-39f0-445c-abdc-1d080d6d15f1"
      },
      "outputs": [
        {
          "data": {
            "text/plain": [
              "0.8436003409637851"
            ]
          },
          "execution_count": 111,
          "metadata": {},
          "output_type": "execute_result"
        }
      ],
      "source": [
        "r2_on_test=r2_score(y_test, predictions)\n",
        "r2_on_test"
      ]
    },
    {
      "cell_type": "code",
      "execution_count": null,
      "id": "6ecc0e8f",
      "metadata": {
        "id": "6ecc0e8f"
      },
      "outputs": [],
      "source": [
        "# Our model here is predicting the values 84.36% times right"
      ]
    },
    {
      "cell_type": "code",
      "execution_count": null,
      "id": "7508330b",
      "metadata": {
        "id": "7508330b"
      },
      "outputs": [],
      "source": [
        "# Linear and logistic --> Only accept the numerical data/numerical columns"
      ]
    },
    {
      "cell_type": "code",
      "execution_count": null,
      "id": "63cbaa31",
      "metadata": {
        "id": "63cbaa31"
      },
      "outputs": [],
      "source": []
    },
    {
      "cell_type": "code",
      "execution_count": null,
      "id": "1303d2d6",
      "metadata": {
        "id": "1303d2d6"
      },
      "outputs": [],
      "source": []
    }
  ],
  "metadata": {
    "colab": {
      "provenance": []
    },
    "kernelspec": {
      "display_name": "Python 3 (ipykernel)",
      "language": "python",
      "name": "python3"
    },
    "language_info": {
      "codemirror_mode": {
        "name": "ipython",
        "version": 3
      },
      "file_extension": ".py",
      "mimetype": "text/x-python",
      "name": "python",
      "nbconvert_exporter": "python",
      "pygments_lexer": "ipython3",
      "version": "3.10.9"
    }
  },
  "nbformat": 4,
  "nbformat_minor": 5
}